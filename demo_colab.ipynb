{
  "cells": [
    {
      "cell_type": "markdown",
      "metadata": {
        "id": "view-in-github",
        "colab_type": "text"
      },
      "source": [
        "<a href=\"https://colab.research.google.com/github/ethanachi/api_use/blob/main/demo_colab.ipynb\" target=\"_parent\"><img src=\"https://colab.research.google.com/assets/colab-badge.svg\" alt=\"Open In Colab\"/></a>"
      ]
    },
    {
      "cell_type": "markdown",
      "metadata": {
        "id": "c0QUPqn5P7TU"
      },
      "source": [
        "The **Synthetic API Use** benchmark aims to evaluate language models' ability to\n",
        "perform tool use during code generation. \n",
        "The benchmark consists of synthetic API's: synthetic Python libraries,\n",
        "each of which tests various facets of reasoning in code synthesis. \n",
        "An accompanying Python testbed generates **test cases** which must be\n",
        "solved using functions from these synthetic API's.\n",
        "At evaluation time, a large language model is first presented with the definition of the API(s),\n",
        "then prompted to complete the test case using the functions it has seen."
      ]
    },
    {
      "cell_type": "code",
      "execution_count": 1,
      "metadata": {
        "id": "7G-vt1TAtDsq"
      },
      "outputs": [],
      "source": [
        "%load_ext autoreload\n",
        "%autoreload 2"
      ]
    },
    {
      "cell_type": "code",
      "execution_count": 2,
      "metadata": {
        "id": "0_B6R9fOPyN1"
      },
      "outputs": [],
      "source": [
        "import json"
      ]
    },
    {
      "cell_type": "code",
      "execution_count": 3,
      "metadata": {
        "id": "rMwALQlOtDsv"
      },
      "outputs": [],
      "source": [
        "import ipywidgets\n",
        "from ipywidgets import interact"
      ]
    },
    {
      "cell_type": "code",
      "source": [
        "!git clone https://github.com/ethanachi/api_use/"
      ],
      "metadata": {
        "colab": {
          "base_uri": "https://localhost:8080/"
        },
        "id": "PN8bsmcatIQ8",
        "outputId": "5ff0062a-27ec-4953-d2b9-f6ac5875cfe1"
      },
      "execution_count": 4,
      "outputs": [
        {
          "output_type": "stream",
          "name": "stdout",
          "text": [
            "Cloning into 'api-use-benchmark'...\n",
            "remote: Enumerating objects: 116, done.\u001b[K\n",
            "remote: Counting objects: 100% (116/116), done.\u001b[K\n",
            "remote: Compressing objects: 100% (84/84), done.\u001b[K\n",
            "remote: Total 116 (delta 60), reused 75 (delta 30), pack-reused 0\u001b[K\n",
            "Receiving objects: 100% (116/116), 124.97 KiB | 5.21 MiB/s, done.\n",
            "Resolving deltas: 100% (60/60), done.\n"
          ]
        }
      ]
    },
    {
      "cell_type": "code",
      "source": [
        "%cd api_use"
      ],
      "metadata": {
        "colab": {
          "base_uri": "https://localhost:8080/"
        },
        "id": "a3j4f5Citroh",
        "outputId": "ae18dcf8-4430-4d95-825c-5374d9f0c7bb"
      },
      "execution_count": 5,
      "outputs": [
        {
          "output_type": "stream",
          "name": "stdout",
          "text": [
            "/content/api-use-benchmark\n"
          ]
        }
      ]
    },
    {
      "cell_type": "code",
      "execution_count": 6,
      "metadata": {
        "id": "WXKf_uipxYR3"
      },
      "outputs": [],
      "source": [
        "import api_use"
      ]
    },
    {
      "cell_type": "code",
      "execution_count": 7,
      "metadata": {
        "id": "MzNh2xtYtDs0"
      },
      "outputs": [],
      "source": [
        "import api_use.api_use_tasks"
      ]
    },
    {
      "cell_type": "code",
      "execution_count": 8,
      "metadata": {
        "id": "xRdPpROyqkIG"
      },
      "outputs": [],
      "source": [
        "from IPython.display import display, HTML\n",
        "codestyle = \"font-size: 0.85em; line-height: 1.2em; display: block; border: 1px solid #ddd; padding: 1em; margin-left: 0.5em;\"\n",
        "def view(result, show_test=False):\n",
        "  display(HTML('<b style=\"color:blue; font-size: 1.25em; margin-top: 1em;\">Prompt: </b>'))\n",
        "  display(HTML(f'<pre><code style=\"{codestyle}\">{result.prompt}</code></pre>'))\n",
        "  display(HTML('<b style=\"color:red; font-size: 1.25em;\">Target: </b>'))\n",
        "  display(HTML(f'<pre><code style=\"{codestyle}\">{result.target}</code></pre>'))\n",
        "  if show_test:\n",
        "    display(HTML('<b style=\"color:orange\">Test: </b>'))\n",
        "    display(HTML(f'<pre><code style=\"{codestyle}\">{result.test}</code></pre>'))"
      ]
    },
    {
      "cell_type": "markdown",
      "metadata": {
        "id": "p-Lkx37MtDs2"
      },
      "source": [
        "## Synthetic API's\n",
        "\n",
        "Each API is defined as a mapping between Python functions (`rotate()`) and an English description (*\"Rotates an image by `n` degrees\"*).\n",
        "No code is required.\n",
        "To create a new synthetic API, one defines a new mapping, either programatically or by creating a JSON file. \n",
        "\n",
        "We provide several synthetic API's, which aim to probe a variety of reasoning capabilities while simulating real-life coding tasks. \n",
        "\n",
        "| Library | Task | Example call |\n",
        "| --- | --- | --- |\n",
        "| Image manipulation | Manipulating images, PIL-style | `image.rotate(45).blur()` |\n",
        "| Chemistry   | Manipulating and searching through molecules | `molecule.get_atom_with_atomic_weight(75).get_label()`\n",
        "| Music | Searching through songs and melodies for notes and converting them to other formats | `melody.get_note_with_pitch(\"A\").to_midi()`\n",
        "| Solids | Computing physical attributes of *n*-dimensional solids | `solids.get_volume_of_cylinder(1, 3, 7)` |\n",
        "\n",
        "See below for more details."
      ]
    },
    {
      "cell_type": "markdown",
      "metadata": {
        "id": "KNlrsZMKSXUr"
      },
      "source": [
        "## Test cases\n",
        "\n",
        "Creating a test case requires two arguments:\n",
        "\n",
        "- the **function signature**, a call (or composition of calls) to function(s) from one or more Synthetic API's\n",
        "- the **description**, a specification in plain English of what the function signature does\n",
        "\n",
        "Solving the resulting test case requires a model to, given the description, generate code *equivalent* to the function signature.\n",
        "Specifically, the generated code must follow the same control flow and arguments as the reference solution."
      ]
    },
    {
      "cell_type": "markdown",
      "metadata": {
        "id": "SXoGhVdCSwk9"
      },
      "source": [
        "### Generation\n",
        "\n",
        "To generate a test case, call **`api_use.get_example(signature, description)`**:\n"
      ]
    },
    {
      "cell_type": "code",
      "execution_count": 9,
      "metadata": {
        "colab": {
          "height": 412,
          "base_uri": "https://localhost:8080/"
        },
        "id": "QxZPNvODSZpr",
        "outputId": "217b934b-542f-411a-c63f-86f00c19f39b"
      },
      "outputs": [
        {
          "output_type": "display_data",
          "data": {
            "text/plain": [
              "<IPython.core.display.HTML object>"
            ],
            "text/html": [
              "<b style=\"color:blue; font-size: 1.25em; margin-top: 1em;\">Prompt: </b>"
            ]
          },
          "metadata": {}
        },
        {
          "output_type": "display_data",
          "data": {
            "text/plain": [
              "<IPython.core.display.HTML object>"
            ],
            "text/html": [
              "<pre><code style=\"font-size: 0.85em; line-height: 1.2em; display: block; border: 1px solid #ddd; padding: 1em; margin-left: 0.5em;\">Consider the following functions:\n",
              "\n",
              "def solids.volume_of_cone(radius, height):\n",
              "    Calculates the volume of a cone with the given radius and the given height.\n",
              "\n",
              "Write a function that gets the volume of a cone.\n",
              "[BEGIN]\n",
              "import solids\n",
              "def func(radius, height):\n",
              "    </code></pre>"
            ]
          },
          "metadata": {}
        },
        {
          "output_type": "display_data",
          "data": {
            "text/plain": [
              "<IPython.core.display.HTML object>"
            ],
            "text/html": [
              "<b style=\"color:red; font-size: 1.25em;\">Target: </b>"
            ]
          },
          "metadata": {}
        },
        {
          "output_type": "display_data",
          "data": {
            "text/plain": [
              "<IPython.core.display.HTML object>"
            ],
            "text/html": [
              "<pre><code style=\"font-size: 0.85em; line-height: 1.2em; display: block; border: 1px solid #ddd; padding: 1em; margin-left: 0.5em;\">return solids.volume_of_cone(radius, height)</code></pre>"
            ]
          },
          "metadata": {}
        },
        {
          "output_type": "display_data",
          "data": {
            "text/plain": [
              "<IPython.core.display.HTML object>"
            ],
            "text/html": [
              "<b style=\"color:orange\">Test: </b>"
            ]
          },
          "metadata": {}
        },
        {
          "output_type": "display_data",
          "data": {
            "text/plain": [
              "<IPython.core.display.HTML object>"
            ],
            "text/html": [
              "<pre><code style=\"font-size: 0.85em; line-height: 1.2em; display: block; border: 1px solid #ddd; padding: 1em; margin-left: 0.5em;\"># signature = def func(radius, height):\n",
              "# indent = '    '\n",
              "solids = Dummy()\n",
              "# style = 'import_style'\n",
              "x = func(radius=\"dummy_radius_0\", height=\"dummy_height_1\")\n",
              "y = solids.volume_of_cone(\"dummy_radius_0\", \"dummy_height_1\")\n",
              "assert x == y, f'Test failure: {x} != {y}'</code></pre>"
            ]
          },
          "metadata": {}
        }
      ],
      "source": [
        "result = api_use.get_example(\n",
        "  signature='solids.volume_of_cone()',\n",
        "  description='gets the volume of a cone',\n",
        ")\n",
        "view(result, show_test=True)"
      ]
    },
    {
      "cell_type": "markdown",
      "metadata": {
        "id": "Qt4SEwiWtDs-"
      },
      "source": [
        "\n",
        "This returns an `api_use.TestCase` object with three fields:\n",
        "\n",
        "-   `.prompt`: English text which presents the API and gives the function to be written. You should pass this to the model being\n",
        "    evaluated as the prefix for generation.\n",
        "\n",
        "\n",
        "-   `.target`: the correct answer to the problem. You don't need this string to\n",
        "    evaluate model performance, but it's helpful to examine the correct answer.\n",
        "\n",
        "-   `.test`: A piece of code that can be used to verify the answer to this\n",
        "    problem."
      ]
    },
    {
      "cell_type": "markdown",
      "metadata": {
        "id": "M4fRgH7STX09"
      },
      "source": [
        "### Evaluation\n",
        "\n",
        "`api_use.execute(sample, test` returns a tuple containing whether the test passed and the error message, if\n",
        "any:"
      ]
    },
    {
      "cell_type": "code",
      "execution_count": 10,
      "metadata": {
        "id": "A8ekA7TdTaGF",
        "outputId": "9840c009-9909-4274-d4dc-ac880287e2b1",
        "colab": {
          "base_uri": "https://localhost:8080/"
        }
      },
      "outputs": [
        {
          "output_type": "stream",
          "name": "stdout",
          "text": [
            "True None\n"
          ]
        }
      ],
      "source": [
        "# the correct target\n",
        "good_sample = \"return solids.volume_of_cone(radius, height)\"\n",
        "is_correct, error_message = api_use.execute([good_sample], result.test)\n",
        "print(is_correct, error_message)"
      ]
    },
    {
      "cell_type": "markdown",
      "metadata": {
        "id": "HM-B9Q2AtDtC"
      },
      "source": [
        "The testbed checks correctness of the control flow rather than exact match, so alternative solutions are possible:"
      ]
    },
    {
      "cell_type": "code",
      "execution_count": 11,
      "metadata": {
        "colab": {
          "base_uri": "https://localhost:8080/"
        },
        "id": "AmCroPVMtDtC",
        "outputId": "7b8f1e18-272e-4d7b-c9c3-572a53d3146a"
      },
      "outputs": [
        {
          "output_type": "stream",
          "name": "stdout",
          "text": [
            "True None\n"
          ]
        }
      ],
      "source": [
        "# another correct target\n",
        "alternative_sample = \"val = solids.volume_of_cone(radius, height)\\n    return val\"\n",
        "is_correct, error_message = api_use.execute([alternative_sample], result.test)\n",
        "print(is_correct, error_message)"
      ]
    },
    {
      "cell_type": "code",
      "execution_count": 12,
      "metadata": {
        "id": "UYVO2HIuVZUa",
        "outputId": "188d8301-8849-4667-8245-d7507b63a662",
        "colab": {
          "base_uri": "https://localhost:8080/"
        }
      },
      "outputs": [
        {
          "output_type": "stream",
          "name": "stdout",
          "text": [
            "False\n",
            "An exception occurred while calling exec. Traceback:\n",
            "\n",
            "Traceback (most recent call last):\n",
            "  File \"/content/api-use-benchmark/api_use/execution_utils.py\", line 266, in exec_with_timeout\n",
            "    exec(code, {}, var_dict)  # pylint: disable=exec-used\n",
            "  File \"<string>\", line 31, in <module>\n",
            "Test failure: D<main.volume_of_conee(dummy_radius_0,dummy_height_1)> != D<main.volume_of_cone(dummy_radius_0,dummy_height_1)>\n",
            "\n"
          ]
        }
      ],
      "source": [
        "# wrong target\n",
        "bad_sample = \"val = solids.volume_of_conee(radius, height)\\n    return val\"\n",
        "is_correct, error_message = api_use.execute([bad_sample], result.test)\n",
        "print(is_correct)\n",
        "print(error_message)"
      ]
    },
    {
      "cell_type": "markdown",
      "metadata": {
        "id": "8Ic4ASNhtDtF"
      },
      "source": [
        "### Customizing Test Cases\n",
        "\n",
        "The difficulty of code synthesis can be affected by a variety of factors.\n",
        "The dependence of model reasoning on these factors can be probed by dialling various\n",
        "attributes of the test case.\n",
        "Test case can be customized by passing configuration\n",
        "arguments to the `get_example` function, as described below."
      ]
    },
    {
      "cell_type": "markdown",
      "metadata": {
        "id": "E-ZznlAGtDtG"
      },
      "source": [
        "#### Distractors\n",
        "When presented with a large number of functions from the same API, can models still select the correct function to complete a task?"
      ]
    },
    {
      "cell_type": "code",
      "execution_count": 14,
      "metadata": {
        "colab": {
          "base_uri": "https://localhost:8080/",
          "height": 476,
          "referenced_widgets": [
            "b3c4c955088947589207ee797cdeeaca",
            "17f7791e1ce24762bdb4b10a099d512b",
            "e43e1c4ded9d453aa143d439ffd7862a",
            "1272c69070364cee8fc472d215a1c325",
            "11e40792517a4cf5a236a9f0a57f2739",
            "be5c5cdd84764632a6aac6b1ce0fccf4",
            "531ed4b8f6f143bfb2a24ad446846481",
            "62d35e4728b949d7aa5d2288452c18eb",
            "84f00237bb3e4fbea9c761e8030bbd6f",
            "92f3853ca86d432e8987acda4b39e92e"
          ]
        },
        "id": "ZtP0ScYRtDtH",
        "outputId": "e357ef11-120e-453e-87e6-3740dbe3f099"
      },
      "outputs": [
        {
          "output_type": "display_data",
          "data": {
            "text/plain": [
              "interactive(children=(IntSlider(value=5, description='num_distractors', max=8), FloatSlider(value=0.5, descrip…"
            ],
            "application/vnd.jupyter.widget-view+json": {
              "version_major": 2,
              "version_minor": 0,
              "model_id": "b3c4c955088947589207ee797cdeeaca"
            }
          },
          "metadata": {}
        }
      ],
      "source": [
        "@interact(num_distractors=ipywidgets.IntSlider(min=0, max=8, step=1, value=5),\n",
        "          target_func_location=ipywidgets.FloatSlider(min=0, max=1, step=0.01, value=0.5))\n",
        "def vary_n_distractors(num_distractors, target_func_location):\n",
        "    results = api_use.get_example(signature=\"solids.volume_of_cone()\", \n",
        "                                  description=\"gets the volume of a cone\",\n",
        "                                  func_name=\"get_volume_of_cone\",\n",
        "                                  num_distractors=num_distractors,\n",
        "                                  target_func_location=target_func_location)\n",
        "    view(results)"
      ]
    },
    {
      "cell_type": "markdown",
      "metadata": {
        "id": "nFrlpCA4tDtI"
      },
      "source": [
        "#### Semantic invariance\n",
        "\n",
        "When reading documentation, do models base their decisions off the function name, the function description, or both? "
      ]
    },
    {
      "cell_type": "code",
      "execution_count": 15,
      "metadata": {
        "colab": {
          "base_uri": "https://localhost:8080/",
          "height": 594,
          "referenced_widgets": [
            "2e98d6780654469e9638627c7b703bcb",
            "ef091ba4ed9f456cb6aeccff7b253f75",
            "f9372954d3734df496cce2ffef2b0512",
            "bd310007a58a4d1391547abdafaab941",
            "9e41fc7c41d74473bb4e62804c2a8558",
            "5e54ea59ab3a404780d6482b17984197",
            "9ea87d8e59cc4d718cd1672e01727610",
            "02d2eab20a614ea0a0fa99a650fa4905",
            "870ebc701c174a6baf12085f07dbfa63",
            "1a43b4c5a7774cd28d236b4352213c2e",
            "ff938f79ccc94a2fade1c26f541d9e8f",
            "514baf05f8504ea3910ad428f2a624a8",
            "b2e5c8a9fc454578b343358a9517e8da"
          ]
        },
        "id": "i1W9ysnCtDtJ",
        "outputId": "4b27ea8d-3ece-4b5c-889a-32ae42820619"
      },
      "outputs": [
        {
          "output_type": "display_data",
          "data": {
            "text/plain": [
              "interactive(children=(Dropdown(description='func_noise_type', options=('number', 'none', 'swap'), value='numbe…"
            ],
            "application/vnd.jupyter.widget-view+json": {
              "version_major": 2,
              "version_minor": 0,
              "model_id": "2e98d6780654469e9638627c7b703bcb"
            }
          },
          "metadata": {}
        }
      ],
      "source": [
        "@interact(func_noise_type=['number', 'none', 'swap'], arg_noise_type=['none', 'number'], desc_noise_type=['none', 'swap'])\n",
        "def vary_n_distractors(func_noise_type, arg_noise_type, desc_noise_type):\n",
        "    results = api_use.get_example(signature=\"solids.volume_of_cone()\", \n",
        "                                  description=\"gets the volume of a cone\",\n",
        "                                  func_name=\"get_volume_of_cone\",\n",
        "                                  function_noise_type=func_noise_type,\n",
        "                                  arg_noise_type=arg_noise_type,\n",
        "                                  description_noise_type=desc_noise_type,\n",
        "                                  num_distractors=8)\n",
        "    view(results)"
      ]
    },
    {
      "cell_type": "markdown",
      "metadata": {
        "id": "XjoI34wZtDtK"
      },
      "source": [
        "#### Argument Order\n",
        "\n",
        "Can models flexibly work with argument order, passing arguments to an API in a different order or with a different degree of specification compared to the input?"
      ]
    },
    {
      "cell_type": "code",
      "execution_count": 16,
      "metadata": {
        "colab": {
          "base_uri": "https://localhost:8080/",
          "height": 301,
          "referenced_widgets": [
            "c2b554eb7fea44e79ab9f6c097f0d0e6",
            "08380d5ced014248b3d0dea5ddcf551d",
            "0a05b67b9d3341fc982364396baa7384",
            "0ed081d0ac5e446294c13872dcc3097c",
            "2be8302c557a442ab0c75db209910723",
            "f99c8303291d4de5ba95dc4895a75212",
            "b9962acd11594a1c863bfd44149c95ad"
          ]
        },
        "id": "egDP0aW0tDtK",
        "outputId": "051e5e8b-f211-4155-e466-a9b52b56709e"
      },
      "outputs": [
        {
          "output_type": "display_data",
          "data": {
            "text/plain": [
              "interactive(children=(Dropdown(description='arg_order', options=([0, 1, 2], [2, 1, 0], [1, 0, 2]), value=[0, 1…"
            ],
            "application/vnd.jupyter.widget-view+json": {
              "version_major": 2,
              "version_minor": 0,
              "model_id": "c2b554eb7fea44e79ab9f6c097f0d0e6"
            }
          },
          "metadata": {}
        }
      ],
      "source": [
        "@interact(arg_order=[[0, 1, 2], [2, 1, 0], [1, 0, 2]])\n",
        "def vary_arg_order(arg_order):\n",
        "    results = api_use.get_example(signature=\"solids3.volume_of_cone()\", \n",
        "                                  description=\"gets the volume of a cone\",\n",
        "                                  func_name=\"get_volume_of_cone\",\n",
        "                                  arg_order=arg_order)\n",
        "    view(results)"
      ]
    },
    {
      "cell_type": "markdown",
      "metadata": {
        "id": "y2XuAsq1tDtL"
      },
      "source": [
        "#### Composition\n",
        "\n",
        "Can models effectively compose functions, using the output of one function call as the input to the next? To what extent do the *length* and the *width* of this chain affect generation correctness? "
      ]
    },
    {
      "cell_type": "code",
      "execution_count": 17,
      "metadata": {
        "colab": {
          "base_uri": "https://localhost:8080/",
          "height": 287,
          "referenced_widgets": [
            "e127ea615b924859bde5a2c3d67f244e",
            "2b98758ffd334e19a9e544a54f4b1a7c",
            "f4ced91e734548fea06665cebf3c1bfb",
            "3d2fdb311998452583eee1096499f360",
            "50ae31361bcb4902a7e0c25c8186b1ca",
            "ce0f1945294a4fe596f90007195bf9c7",
            "f8a4f9f62edb42ca925323d2f8ce2972"
          ]
        },
        "id": "ZIzCsJeHtDtM",
        "outputId": "aefaa168-8942-4da3-a0f7-a5bc8c62ec75"
      },
      "outputs": [
        {
          "output_type": "display_data",
          "data": {
            "text/plain": [
              "interactive(children=(Dropdown(description='depth', options=(1, 2, 3, 4), value=1), Output()), _dom_classes=('…"
            ],
            "application/vnd.jupyter.widget-view+json": {
              "version_major": 2,
              "version_minor": 0,
              "model_id": "e127ea615b924859bde5a2c3d67f244e"
            }
          },
          "metadata": {}
        }
      ],
      "source": [
        "import random\n",
        "func_pool = [\n",
        "  (\"rotate()\", \"rotate\", \"rotates $ by the given number of degrees\"),\n",
        "  (\"flip_horizontal()\", \"flip_horizontal\", \"flips $ horizontally\"),\n",
        "  (\"blur()\", \"blur\", \"blurs $ by the given number of pixels\"),\n",
        "  (\"distort(pixels=5)\", \"distort_5_px\", \"distorts $ by 5 pixels\"),\n",
        "]\n",
        "\n",
        "functions_used = random.sample(func_pool, k=4)\n",
        "\n",
        "@interact(depth=[1, 2, 3, 4])\n",
        "def vary_composition(depth):\n",
        "    function_call_list, func_name_list, desc_list = zip(*functions_used[:depth])\n",
        "    function_call = \"image.\" + '.'.join(function_call_list)\n",
        "    func_name = \"_then_\".join(func_name_list)\n",
        "    desc = \", then \".join([desc_list[0].replace('$', 'an image')] + [x.replace('$', 'it') for x in desc_list[1:]])\n",
        "    \n",
        "    results = api_use.get_example(signature=function_call, \n",
        "                                  description=desc,\n",
        "                                  func_name=func_name)\n",
        "    view(results)"
      ]
    },
    {
      "cell_type": "markdown",
      "metadata": {
        "id": "9-fXOjwotDtN"
      },
      "source": [
        "## Synthetic API's\n",
        "\n",
        "We provide several synthetic API's, which aim to probe a variety of reasoning capabilities while simulating real-life coding tasks. "
      ]
    },
    {
      "cell_type": "markdown",
      "metadata": {
        "id": "KZ9vS12tWVk6"
      },
      "source": [
        "- `solids`: This library tests **models' abilities to work with arguments.**\n",
        "It provides functions which compute the volume and surface area of various physical objects given their dimensions.\n",
        "By default, these functions take two arguments (radius and height);\n",
        "we provide variants which take varying number of arguments from 1 to 4\n",
        "(`solids[1-4]`) respectively."
      ]
    },
    {
      "cell_type": "code",
      "execution_count": 18,
      "metadata": {
        "colab": {
          "height": 269,
          "base_uri": "https://localhost:8080/"
        },
        "id": "NjJu79W8WSAv",
        "outputId": "a4c4127e-2d2f-4254-d48b-8415c132005d"
      },
      "outputs": [
        {
          "output_type": "display_data",
          "data": {
            "text/plain": [
              "<IPython.core.display.HTML object>"
            ],
            "text/html": [
              "<b style=\"color:blue; font-size: 1.25em; margin-top: 1em;\">Prompt: </b>"
            ]
          },
          "metadata": {}
        },
        {
          "output_type": "display_data",
          "data": {
            "text/plain": [
              "<IPython.core.display.HTML object>"
            ],
            "text/html": [
              "<pre><code style=\"font-size: 0.85em; line-height: 1.2em; display: block; border: 1px solid #ddd; padding: 1em; margin-left: 0.5em;\">Consider the following functions:\n",
              "\n",
              "def solids.volume_of_cone(length, width, height):\n",
              "    Calculates the volume of a cone with the given length, the given width and the given height.\n",
              "\n",
              "Write a function that gets the volume of a cone with height 2.\n",
              "[BEGIN]\n",
              "import solids\n",
              "def func(length, width):\n",
              "    </code></pre>"
            ]
          },
          "metadata": {}
        },
        {
          "output_type": "display_data",
          "data": {
            "text/plain": [
              "<IPython.core.display.HTML object>"
            ],
            "text/html": [
              "<b style=\"color:red; font-size: 1.25em;\">Target: </b>"
            ]
          },
          "metadata": {}
        },
        {
          "output_type": "display_data",
          "data": {
            "text/plain": [
              "<IPython.core.display.HTML object>"
            ],
            "text/html": [
              "<pre><code style=\"font-size: 0.85em; line-height: 1.2em; display: block; border: 1px solid #ddd; padding: 1em; margin-left: 0.5em;\">return solids.volume_of_cone(length, width, 2)</code></pre>"
            ]
          },
          "metadata": {}
        }
      ],
      "source": [
        "result = api_use.get_example(\n",
        "  signature='solids3.volume_of_cone(height=2)',\n",
        "  description='gets the volume of a cone with height 2',\n",
        ")\n",
        "view(result)"
      ]
    },
    {
      "cell_type": "markdown",
      "metadata": {
        "id": "bDpKGkXxtDtO"
      },
      "source": [
        "- `chem` and `music`: These libraries test **models' abilities to perform search-like operations.**"
      ]
    },
    {
      "cell_type": "code",
      "execution_count": null,
      "metadata": {
        "colab": {
          "base_uri": "https://localhost:8080/",
          "height": 275
        },
        "id": "XuIrXOxPtDtP",
        "outputId": "98b491e1-2bbe-47d1-aab3-5af92647493a"
      },
      "outputs": [
        {
          "output_type": "display_data",
          "data": {
            "text/plain": [
              "<IPython.core.display.HTML object>"
            ],
            "text/html": [
              "<b style=\"color:blue; font-size: 1.25em; margin-top: 1em;\">Prompt: </b>"
            ]
          },
          "metadata": {}
        },
        {
          "output_type": "display_data",
          "data": {
            "text/plain": [
              "<IPython.core.display.HTML object>"
            ],
            "text/html": [
              "<pre><code style=\"font-size: 0.85em; line-height: 1.2em; display: block; border: 1px solid #ddd; padding: 1em; margin-left: 0.5em;\">Consider the following functions:\n",
              "\n",
              "def molecule.get_atom_with_atomic_num(atomic_num):\n",
              "    Returns an atom in the molecule with the given atomic num.\n",
              "\n",
              "Write a function that gets the atom with atomic number 2.\n",
              "[BEGIN]\n",
              "def func(molecule):\n",
              "    </code></pre>"
            ]
          },
          "metadata": {}
        },
        {
          "output_type": "display_data",
          "data": {
            "text/plain": [
              "<IPython.core.display.HTML object>"
            ],
            "text/html": [
              "<b style=\"color:red; font-size: 1.25em;\">Target: </b>"
            ]
          },
          "metadata": {}
        },
        {
          "output_type": "display_data",
          "data": {
            "text/plain": [
              "<IPython.core.display.HTML object>"
            ],
            "text/html": [
              "<pre><code style=\"font-size: 0.85em; line-height: 1.2em; display: block; border: 1px solid #ddd; padding: 1em; margin-left: 0.5em;\">return molecule.get_atom_with_atomic_num(2)</code></pre>"
            ]
          },
          "metadata": {}
        }
      ],
      "source": [
        "result = api_use.get_example(\n",
        "  signature='molecule.get_atom_with_atomic_num(atomic_num=2)',\n",
        "  description='gets the atom with atomic number 2',\n",
        ")\n",
        "view(result)"
      ]
    },
    {
      "cell_type": "markdown",
      "metadata": {
        "id": "UWy4pBbltDtR"
      },
      "source": [
        "- `image`: This library tests **models' abilities to chain functions.**"
      ]
    },
    {
      "cell_type": "code",
      "execution_count": null,
      "metadata": {
        "colab": {
          "base_uri": "https://localhost:8080/",
          "height": 303
        },
        "id": "1rw4R4TqtDtR",
        "outputId": "bbcdc0e0-5bfa-43ef-8335-f44a1dce36ba"
      },
      "outputs": [
        {
          "output_type": "display_data",
          "data": {
            "text/plain": [
              "<IPython.core.display.HTML object>"
            ],
            "text/html": [
              "<b style=\"color:blue; font-size: 1.25em; margin-top: 1em;\">Prompt: </b>"
            ]
          },
          "metadata": {}
        },
        {
          "output_type": "display_data",
          "data": {
            "text/plain": [
              "<IPython.core.display.HTML object>"
            ],
            "text/html": [
              "<pre><code style=\"font-size: 0.85em; line-height: 1.2em; display: block; border: 1px solid #ddd; padding: 1em; margin-left: 0.5em;\">Consider the following functions:\n",
              "\n",
              "def image.get_width():\n",
              "    gets the width of the image\n",
              "def image.rotate(degrees):\n",
              "    rotates the image by the given number of degrees\n",
              "\n",
              "Write a function that rotates the given image by a number of degrees equal to its width.\n",
              "[BEGIN]\n",
              "def rotate_by_width(image):\n",
              "    </code></pre>"
            ]
          },
          "metadata": {}
        },
        {
          "output_type": "display_data",
          "data": {
            "text/plain": [
              "<IPython.core.display.HTML object>"
            ],
            "text/html": [
              "<b style=\"color:red; font-size: 1.25em;\">Target: </b>"
            ]
          },
          "metadata": {}
        },
        {
          "output_type": "display_data",
          "data": {
            "text/plain": [
              "<IPython.core.display.HTML object>"
            ],
            "text/html": [
              "<pre><code style=\"font-size: 0.85em; line-height: 1.2em; display: block; border: 1px solid #ddd; padding: 1em; margin-left: 0.5em;\">return image.rotate(image.get_width())</code></pre>"
            ]
          },
          "metadata": {}
        }
      ],
      "source": [
        "view(api_use.get_example(signature=\"image.rotate(degrees=image.get_width())\", \n",
        "                         func_name=\"rotate_by_width\", \n",
        "                         description=\"rotates the given image by a number of degrees equal to its width\"))"
      ]
    },
    {
      "cell_type": "markdown",
      "metadata": {
        "id": "dT4u0XJ1yyKh"
      },
      "source": [
        "# API Reference\n",
        "\n",
        "The core of the API Use benchmark is a **test case**: a definition of\n",
        "one or more API's, plus a prompt that describes the function to be completed\n",
        "by the model which utilizes the previously defined API's.\n",
        "Test cases can be generated using the `api_use.get_example()` function."
      ]
    },
    {
      "cell_type": "code",
      "execution_count": null,
      "metadata": {
        "colab": {
          "height": 269,
          "base_uri": "https://localhost:8080/"
        },
        "id": "ltwzAbKzX-qW",
        "outputId": "420bb480-93e4-4a06-bc73-c63e896ab4bf"
      },
      "outputs": [
        {
          "output_type": "display_data",
          "data": {
            "text/plain": [
              "<IPython.core.display.HTML object>"
            ],
            "text/html": [
              "<b style=\"color:blue; font-size: 1.25em; margin-top: 1em;\">Prompt: </b>"
            ]
          },
          "metadata": {}
        },
        {
          "output_type": "display_data",
          "data": {
            "text/plain": [
              "<IPython.core.display.HTML object>"
            ],
            "text/html": [
              "<pre><code style=\"font-size: 0.85em; line-height: 1.2em; display: block; border: 1px solid #ddd; padding: 1em; margin-left: 0.5em;\">Consider the following functions:\n",
              "\n",
              "def solids.volume_of_cone(radius, height):\n",
              "    Calculates the volume of a cone with the given radius and the given height.\n",
              "\n",
              "Write a function that gets the volume of a cone given its height and radius.\n",
              "[BEGIN]\n",
              "import solids\n",
              "def func(radius, height):\n",
              "    </code></pre>"
            ]
          },
          "metadata": {}
        },
        {
          "output_type": "display_data",
          "data": {
            "text/plain": [
              "<IPython.core.display.HTML object>"
            ],
            "text/html": [
              "<b style=\"color:red; font-size: 1.25em;\">Target: </b>"
            ]
          },
          "metadata": {}
        },
        {
          "output_type": "display_data",
          "data": {
            "text/plain": [
              "<IPython.core.display.HTML object>"
            ],
            "text/html": [
              "<pre><code style=\"font-size: 0.85em; line-height: 1.2em; display: block; border: 1px solid #ddd; padding: 1em; margin-left: 0.5em;\">return solids.volume_of_cone(radius, height)</code></pre>"
            ]
          },
          "metadata": {}
        }
      ],
      "source": [
        "results = api_use.get_example(signature=\"solids.volume_of_cone()\", \n",
        "                              description=\"gets the volume of a cone given its height and radius\")\n",
        "view(results)"
      ]
    },
    {
      "cell_type": "markdown",
      "metadata": {
        "id": "_lE-TELNsh45"
      },
      "source": [
        "## Dialing attributes\n",
        "\n",
        "Test cases are **dialable**: we aim to examine the dependence of model\n",
        "reasoning abilities on a variety of confounding factors.\n",
        "Nearly every attribute of the default test case output can be dialed,\n",
        "which we briefly describe below:"
      ]
    },
    {
      "cell_type": "markdown",
      "metadata": {
        "id": "RH-6O_VIwjJz"
      },
      "source": [
        "### Function prompt\n",
        "\n",
        "#### Composition\n",
        "\n",
        "Requiring models to use multiple functions and connect\n",
        "their results to each other tests their ability to perform **composition**,\n",
        "a core part of reasoning.\n",
        "The benchmark supports generating test cases with arbitrary composition;\n",
        "simply pass a function composition as the `func_call`.\n",
        "The results of one function can be passed as an argument to another function:"
      ]
    },
    {
      "cell_type": "code",
      "execution_count": null,
      "metadata": {
        "id": "6H1imFMhndeN",
        "outputId": "396a668c-67ea-4fe8-81ea-91f56c0ccc43",
        "colab": {
          "base_uri": "https://localhost:8080/",
          "height": 303
        }
      },
      "outputs": [
        {
          "output_type": "display_data",
          "data": {
            "text/plain": [
              "<IPython.core.display.HTML object>"
            ],
            "text/html": [
              "<b style=\"color:blue; font-size: 1.25em; margin-top: 1em;\">Prompt: </b>"
            ]
          },
          "metadata": {}
        },
        {
          "output_type": "display_data",
          "data": {
            "text/plain": [
              "<IPython.core.display.HTML object>"
            ],
            "text/html": [
              "<pre><code style=\"font-size: 0.85em; line-height: 1.2em; display: block; border: 1px solid #ddd; padding: 1em; margin-left: 0.5em;\">Consider the following functions:\n",
              "\n",
              "def image.get_width():\n",
              "    gets the width of the image\n",
              "def image.rotate(degrees):\n",
              "    rotates the image by the given number of degrees\n",
              "\n",
              "Write a function that rotates the given image by a number of degrees equal to its width.\n",
              "[BEGIN]\n",
              "def rotate_by_width(image):\n",
              "    </code></pre>"
            ]
          },
          "metadata": {}
        },
        {
          "output_type": "display_data",
          "data": {
            "text/plain": [
              "<IPython.core.display.HTML object>"
            ],
            "text/html": [
              "<b style=\"color:red; font-size: 1.25em;\">Target: </b>"
            ]
          },
          "metadata": {}
        },
        {
          "output_type": "display_data",
          "data": {
            "text/plain": [
              "<IPython.core.display.HTML object>"
            ],
            "text/html": [
              "<pre><code style=\"font-size: 0.85em; line-height: 1.2em; display: block; border: 1px solid #ddd; padding: 1em; margin-left: 0.5em;\">return image.rotate(image.get_width())</code></pre>"
            ]
          },
          "metadata": {}
        }
      ],
      "source": [
        "view(api_use.get_example(signature=\"image.rotate(degrees=image.get_width())\", \n",
        "                         func_name=\"rotate_by_width\", \n",
        "                         description=\"rotates the given image by a number of degrees equal to its width\"))"
      ]
    },
    {
      "cell_type": "markdown",
      "metadata": {
        "id": "BS6xONCL1wfo"
      },
      "source": [
        "or as the subject of another function call.\n"
      ]
    },
    {
      "cell_type": "code",
      "execution_count": null,
      "metadata": {
        "id": "XZhCXknWqbNm",
        "outputId": "6af62b7e-5a3b-4293-cb34-b90a7cab48a5",
        "colab": {
          "base_uri": "https://localhost:8080/",
          "height": 303
        }
      },
      "outputs": [
        {
          "output_type": "display_data",
          "data": {
            "text/plain": [
              "<IPython.core.display.HTML object>"
            ],
            "text/html": [
              "<b style=\"color:blue; font-size: 1.25em; margin-top: 1em;\">Prompt: </b>"
            ]
          },
          "metadata": {}
        },
        {
          "output_type": "display_data",
          "data": {
            "text/plain": [
              "<IPython.core.display.HTML object>"
            ],
            "text/html": [
              "<pre><code style=\"font-size: 0.85em; line-height: 1.2em; display: block; border: 1px solid #ddd; padding: 1em; margin-left: 0.5em;\">Consider the following functions:\n",
              "\n",
              "def molecule.get_atom_with_atomic_num(atomic_num):\n",
              "    Returns an atom in the molecule with the given atomic num.\n",
              "def atom.get_atomic_weight():\n",
              "    Returns the atomic weight of the atom.\n",
              "\n",
              "Write a function that given a molecule, gets the atomic weight of its atom with atomic number 55.\n",
              "[BEGIN]\n",
              "def get_atomic_weight_of_atom_with_atomic_num_55(molecule, atomic_num):\n",
              "    </code></pre>"
            ]
          },
          "metadata": {}
        },
        {
          "output_type": "display_data",
          "data": {
            "text/plain": [
              "<IPython.core.display.HTML object>"
            ],
            "text/html": [
              "<b style=\"color:red; font-size: 1.25em;\">Target: </b>"
            ]
          },
          "metadata": {}
        },
        {
          "output_type": "display_data",
          "data": {
            "text/plain": [
              "<IPython.core.display.HTML object>"
            ],
            "text/html": [
              "<pre><code style=\"font-size: 0.85em; line-height: 1.2em; display: block; border: 1px solid #ddd; padding: 1em; margin-left: 0.5em;\">return molecule.get_atom_with_atomic_num(atomic_num).get_atomic_weight()</code></pre>"
            ]
          },
          "metadata": {}
        }
      ],
      "source": [
        "view(api_use.get_example(signature=\"molecule.get_atom_with_atomic_num(55).get_atomic_weight()\", \n",
        "                         func_name=\"get_atomic_weight_of_atom_with_atomic_num_55\", \n",
        "                         description=\"given a molecule, gets the atomic weight of its atom with atomic number 55\"))"
      ]
    },
    {
      "cell_type": "markdown",
      "metadata": {
        "id": "Fl3LCu-_xGn1"
      },
      "source": [
        "In this second case, the return type of the first function call is used to\n",
        "disambiguate the library for the next function call.\n",
        "For example, in the below example the return type of \n",
        "`get_atomic_with_atomic_num` in library `molecule` is defined to be `atom`,\n",
        "so the `atom.get_atomic_weight()` function is used.\n",
        "\n",
        "Additionally, multiple levels of composition are possible:"
      ]
    },
    {
      "cell_type": "code",
      "execution_count": null,
      "metadata": {
        "id": "aOqZRmuixN5f",
        "outputId": "81ea14fd-955d-4759-b8ed-5fe0259ab691",
        "colab": {
          "base_uri": "https://localhost:8080/",
          "height": 332
        }
      },
      "outputs": [
        {
          "output_type": "display_data",
          "data": {
            "text/plain": [
              "<IPython.core.display.HTML object>"
            ],
            "text/html": [
              "<b style=\"color:blue; font-size: 1.25em; margin-top: 1em;\">Prompt: </b>"
            ]
          },
          "metadata": {}
        },
        {
          "output_type": "display_data",
          "data": {
            "text/plain": [
              "<IPython.core.display.HTML object>"
            ],
            "text/html": [
              "<pre><code style=\"font-size: 0.85em; line-height: 1.2em; display: block; border: 1px solid #ddd; padding: 1em; margin-left: 0.5em;\">Consider the following functions:\n",
              "\n",
              "def image.blur(pixels):\n",
              "    blurs the image by the given number of pixels\n",
              "def image.rotate(degrees):\n",
              "    rotates the image by the given number of degrees\n",
              "def image.flip_horizontal():\n",
              "    flips the image horizontally\n",
              "\n",
              "Write a function that given an image, blurs it 5 pixels, flips it horizontally, then rotates it by the width of the image.\n",
              "[BEGIN]\n",
              "def func(image, degrees):\n",
              "    </code></pre>"
            ]
          },
          "metadata": {}
        },
        {
          "output_type": "display_data",
          "data": {
            "text/plain": [
              "<IPython.core.display.HTML object>"
            ],
            "text/html": [
              "<b style=\"color:red; font-size: 1.25em;\">Target: </b>"
            ]
          },
          "metadata": {}
        },
        {
          "output_type": "display_data",
          "data": {
            "text/plain": [
              "<IPython.core.display.HTML object>"
            ],
            "text/html": [
              "<pre><code style=\"font-size: 0.85em; line-height: 1.2em; display: block; border: 1px solid #ddd; padding: 1em; margin-left: 0.5em;\">return image.blur(5).flip_horizontal().rotate(degrees)</code></pre>"
            ]
          },
          "metadata": {}
        }
      ],
      "source": [
        "view(api_use.get_example(signature=\"image.blur(pixels=5).flip_horizontal().rotate(image.get_width())\", \n",
        "                         func_name=\"func\", \n",
        "                         description=\"given an image, blurs it 5 pixels, flips it horizontally, then rotates it by the width of the image\"))"
      ]
    },
    {
      "cell_type": "markdown",
      "metadata": {
        "id": "LNQvKYLTxdOh"
      },
      "source": [
        "#### Argument order\n",
        "A core part of working with API's is the partial\n",
        "application of function arguments. Using the\n",
        "`solids.volume_of_cone(height, radius)` API as an example,\n",
        "suppose one wants to compute the volume of a cone with known height\n",
        "(but not radius).\n",
        "Successfully solving this task requires passing the `radius` argument\n",
        "from the outer function definition into the inner API call,\n",
        "while supplying a set height of its own.\n",
        "\n",
        "In a more general sense, flexibly working with API's requires\n",
        "setting any number of inner API call arguments to fixed, pre-known values,\n",
        "while matching the remaining inner arguments with their corresponding\n",
        "outer arguments in any arbitrary order.\n",
        "Learning this invariant matching between arguments is an important\n",
        "prior to successfully generate code.\n",
        "The API Use benchmark provides multiple ways to probe this capability,\n",
        "briefly described below:"
      ]
    },
    {
      "cell_type": "markdown",
      "metadata": {
        "id": "E7Vlpex92C0Y"
      },
      "source": [
        "**Fixing arguments**: \n",
        "Any inner API call arguments can be set to fixed values by specifying\n",
        "the key and value appropriately in the function signature."
      ]
    },
    {
      "cell_type": "code",
      "execution_count": null,
      "metadata": {
        "id": "2Kbc2abU2CRj",
        "outputId": "6c5c3974-c9fa-45fd-948b-a5bdf7d5f3ee",
        "colab": {
          "base_uri": "https://localhost:8080/",
          "height": 289
        }
      },
      "outputs": [
        {
          "output_type": "display_data",
          "data": {
            "text/plain": [
              "<IPython.core.display.HTML object>"
            ],
            "text/html": [
              "<b style=\"color:blue; font-size: 1.25em; margin-top: 1em;\">Prompt: </b>"
            ]
          },
          "metadata": {}
        },
        {
          "output_type": "display_data",
          "data": {
            "text/plain": [
              "<IPython.core.display.HTML object>"
            ],
            "text/html": [
              "<pre><code style=\"font-size: 0.85em; line-height: 1.2em; display: block; border: 1px solid #ddd; padding: 1em; margin-left: 0.5em;\">Consider the following functions:\n",
              "\n",
              "def solids.volume_of_cylinder(radius, height):\n",
              "    Calculates the volume of a cylinder with the given radius and the given height.\n",
              "\n",
              "Write a function that gets the volume of a cylinder.\n",
              "[BEGIN]\n",
              "import solids\n",
              "def get_volume_of_cylinder(radius, height):\n",
              "    </code></pre>"
            ]
          },
          "metadata": {}
        },
        {
          "output_type": "display_data",
          "data": {
            "text/plain": [
              "<IPython.core.display.HTML object>"
            ],
            "text/html": [
              "<b style=\"color:red; font-size: 1.25em;\">Target: </b>"
            ]
          },
          "metadata": {}
        },
        {
          "output_type": "display_data",
          "data": {
            "text/plain": [
              "<IPython.core.display.HTML object>"
            ],
            "text/html": [
              "<pre><code style=\"font-size: 0.85em; line-height: 1.2em; display: block; border: 1px solid #ddd; padding: 1em; margin-left: 0.5em;\">return solids.volume_of_cylinder(radius, height)</code></pre>"
            ]
          },
          "metadata": {}
        }
      ],
      "source": [
        "# Fixing 0 arguments\n",
        "view(api_use.get_example(signature=\"solids.volume_of_cylinder()\", \n",
        "                         description=\"gets the volume of a cylinder\",\n",
        "                         func_name=\"get_volume_of_cylinder\"))"
      ]
    },
    {
      "cell_type": "code",
      "execution_count": null,
      "metadata": {
        "id": "9Bc8rOH12CW2",
        "outputId": "b2ddc927-16e4-4ee6-ffa0-54693ae1d5ac",
        "colab": {
          "base_uri": "https://localhost:8080/",
          "height": 289
        }
      },
      "outputs": [
        {
          "output_type": "display_data",
          "data": {
            "text/plain": [
              "<IPython.core.display.HTML object>"
            ],
            "text/html": [
              "<b style=\"color:blue; font-size: 1.25em; margin-top: 1em;\">Prompt: </b>"
            ]
          },
          "metadata": {}
        },
        {
          "output_type": "display_data",
          "data": {
            "text/plain": [
              "<IPython.core.display.HTML object>"
            ],
            "text/html": [
              "<pre><code style=\"font-size: 0.85em; line-height: 1.2em; display: block; border: 1px solid #ddd; padding: 1em; margin-left: 0.5em;\">Consider the following functions:\n",
              "\n",
              "def solids.volume_of_cylinder(radius, height):\n",
              "    Calculates the volume of a cylinder with the given radius and the given height.\n",
              "\n",
              "Write a function that gets the volume of a cylinder with radius 5.\n",
              "[BEGIN]\n",
              "import solids\n",
              "def get_volume_of_cylinder_radius_5(height):\n",
              "    </code></pre>"
            ]
          },
          "metadata": {}
        },
        {
          "output_type": "display_data",
          "data": {
            "text/plain": [
              "<IPython.core.display.HTML object>"
            ],
            "text/html": [
              "<b style=\"color:red; font-size: 1.25em;\">Target: </b>"
            ]
          },
          "metadata": {}
        },
        {
          "output_type": "display_data",
          "data": {
            "text/plain": [
              "<IPython.core.display.HTML object>"
            ],
            "text/html": [
              "<pre><code style=\"font-size: 0.85em; line-height: 1.2em; display: block; border: 1px solid #ddd; padding: 1em; margin-left: 0.5em;\">return solids.volume_of_cylinder(5, height)</code></pre>"
            ]
          },
          "metadata": {}
        }
      ],
      "source": [
        "# Fixing first argument\n",
        "view(api_use.get_example(signature=\"solids.volume_of_cylinder(radius=5)\", \n",
        "                         description=\"gets the volume of a cylinder with radius 5\",\n",
        "                         func_name=\"get_volume_of_cylinder_radius_5\"))"
      ]
    },
    {
      "cell_type": "markdown",
      "metadata": {
        "id": "gloXOfJx27is"
      },
      "source": [
        "Additionally, the arguments can be fixed in arbitrary order:"
      ]
    },
    {
      "cell_type": "code",
      "execution_count": null,
      "metadata": {
        "id": "AA3lEu_vxbex",
        "outputId": "8de0e8c5-dee8-4eb9-d076-9d6f61b3a387",
        "colab": {
          "base_uri": "https://localhost:8080/",
          "height": 289
        }
      },
      "outputs": [
        {
          "output_type": "display_data",
          "data": {
            "text/plain": [
              "<IPython.core.display.HTML object>"
            ],
            "text/html": [
              "<b style=\"color:blue; font-size: 1.25em; margin-top: 1em;\">Prompt: </b>"
            ]
          },
          "metadata": {}
        },
        {
          "output_type": "display_data",
          "data": {
            "text/plain": [
              "<IPython.core.display.HTML object>"
            ],
            "text/html": [
              "<pre><code style=\"font-size: 0.85em; line-height: 1.2em; display: block; border: 1px solid #ddd; padding: 1em; margin-left: 0.5em;\">Consider the following functions:\n",
              "\n",
              "def solids.volume_of_cylinder(radius, height):\n",
              "    Calculates the volume of a cylinder with the given radius and the given height.\n",
              "\n",
              "Write a function that gets the volume of a cylinder with height 4 and radius 5.\n",
              "[BEGIN]\n",
              "import solids\n",
              "def get_volume_of_cylinder_with_height_4_radius_5():\n",
              "    </code></pre>"
            ]
          },
          "metadata": {}
        },
        {
          "output_type": "display_data",
          "data": {
            "text/plain": [
              "<IPython.core.display.HTML object>"
            ],
            "text/html": [
              "<b style=\"color:red; font-size: 1.25em;\">Target: </b>"
            ]
          },
          "metadata": {}
        },
        {
          "output_type": "display_data",
          "data": {
            "text/plain": [
              "<IPython.core.display.HTML object>"
            ],
            "text/html": [
              "<pre><code style=\"font-size: 0.85em; line-height: 1.2em; display: block; border: 1px solid #ddd; padding: 1em; margin-left: 0.5em;\">return solids.volume_of_cylinder(5, 4)</code></pre>"
            ]
          },
          "metadata": {}
        }
      ],
      "source": [
        "view(api_use.get_example(signature=\"solids.volume_of_cylinder(height=4, radius=5)\", \n",
        "                         description=\"gets the volume of a cylinder with height 4 and radius 5\",\n",
        "                         func_name=\"get_volume_of_cylinder_with_height_4_radius_5\"))"
      ]
    },
    {
      "cell_type": "markdown",
      "metadata": {
        "id": "n82Uawkb3YmR"
      },
      "source": [
        "- **Outer argument order**: Any arguments not fixed are propagated\n",
        "to the outer function definition. By default, the arguments are listed in\n",
        "the order they appear in the signature:\n"
      ]
    },
    {
      "cell_type": "code",
      "execution_count": null,
      "metadata": {
        "id": "Kc_qqUkYxuIO",
        "outputId": "39228739-7ffe-4dce-cb11-e640bceb263d",
        "colab": {
          "base_uri": "https://localhost:8080/",
          "height": 303
        }
      },
      "outputs": [
        {
          "output_type": "display_data",
          "data": {
            "text/plain": [
              "<IPython.core.display.HTML object>"
            ],
            "text/html": [
              "<b style=\"color:blue; font-size: 1.25em; margin-top: 1em;\">Prompt: </b>"
            ]
          },
          "metadata": {}
        },
        {
          "output_type": "display_data",
          "data": {
            "text/plain": [
              "<IPython.core.display.HTML object>"
            ],
            "text/html": [
              "<pre><code style=\"font-size: 0.85em; line-height: 1.2em; display: block; border: 1px solid #ddd; padding: 1em; margin-left: 0.5em;\">Consider the following functions:\n",
              "\n",
              "def image.blur(pixels):\n",
              "    blurs the image by the given number of pixels\n",
              "def image.rotate(degrees):\n",
              "    rotates the image by the given number of degrees\n",
              "\n",
              "Write a function that rotates the given image by the given number of degrees, then blurs it.\n",
              "[BEGIN]\n",
              "def rotate_then_blur(image, degrees, pixels):\n",
              "    </code></pre>"
            ]
          },
          "metadata": {}
        },
        {
          "output_type": "display_data",
          "data": {
            "text/plain": [
              "<IPython.core.display.HTML object>"
            ],
            "text/html": [
              "<b style=\"color:red; font-size: 1.25em;\">Target: </b>"
            ]
          },
          "metadata": {}
        },
        {
          "output_type": "display_data",
          "data": {
            "text/plain": [
              "<IPython.core.display.HTML object>"
            ],
            "text/html": [
              "<pre><code style=\"font-size: 0.85em; line-height: 1.2em; display: block; border: 1px solid #ddd; padding: 1em; margin-left: 0.5em;\">return image.rotate(degrees).blur(pixels)</code></pre>"
            ]
          },
          "metadata": {}
        }
      ],
      "source": [
        "view(api_use.get_example(signature=\"image.rotate().blur()\", \n",
        "                         func_name=\"rotate_then_blur\", \n",
        "                         description=\"rotates the given image by the given number of degrees, then blurs it\"))"
      ]
    },
    {
      "cell_type": "markdown",
      "metadata": {
        "id": "a8q9u5Dk5aFA"
      },
      "source": [
        "This can be modified by the `arg_order` argument:"
      ]
    },
    {
      "cell_type": "code",
      "execution_count": null,
      "metadata": {
        "id": "1EhwLgEq5dtw",
        "outputId": "9a8c9114-af58-4154-c616-a5faa03c0076",
        "colab": {
          "base_uri": "https://localhost:8080/",
          "height": 303
        }
      },
      "outputs": [
        {
          "output_type": "display_data",
          "data": {
            "text/plain": [
              "<IPython.core.display.HTML object>"
            ],
            "text/html": [
              "<b style=\"color:blue; font-size: 1.25em; margin-top: 1em;\">Prompt: </b>"
            ]
          },
          "metadata": {}
        },
        {
          "output_type": "display_data",
          "data": {
            "text/plain": [
              "<IPython.core.display.HTML object>"
            ],
            "text/html": [
              "<pre><code style=\"font-size: 0.85em; line-height: 1.2em; display: block; border: 1px solid #ddd; padding: 1em; margin-left: 0.5em;\">Consider the following functions:\n",
              "\n",
              "def image.blur(pixels):\n",
              "    blurs the image by the given number of pixels\n",
              "def image.rotate(degrees):\n",
              "    rotates the image by the given number of degrees\n",
              "\n",
              "Write a function that rotates the given image by the given number of degrees, then blurs it.\n",
              "[BEGIN]\n",
              "def rotate_then_blur(image, pixels, degrees):\n",
              "    </code></pre>"
            ]
          },
          "metadata": {}
        },
        {
          "output_type": "display_data",
          "data": {
            "text/plain": [
              "<IPython.core.display.HTML object>"
            ],
            "text/html": [
              "<b style=\"color:red; font-size: 1.25em;\">Target: </b>"
            ]
          },
          "metadata": {}
        },
        {
          "output_type": "display_data",
          "data": {
            "text/plain": [
              "<IPython.core.display.HTML object>"
            ],
            "text/html": [
              "<pre><code style=\"font-size: 0.85em; line-height: 1.2em; display: block; border: 1px solid #ddd; padding: 1em; margin-left: 0.5em;\">return image.rotate(degrees).blur(pixels)</code></pre>"
            ]
          },
          "metadata": {}
        }
      ],
      "source": [
        "view(api_use.get_example(signature=\"image.rotate().blur()\", \n",
        "                         func_name=\"rotate_then_blur\", \n",
        "                         description=\"rotates the given image by the given number of degrees, then blurs it\",\n",
        "                         arg_order=[0, 2, 1]))"
      ]
    },
    {
      "cell_type": "markdown",
      "metadata": {
        "id": "aFbKrNE6xGse"
      },
      "source": [
        "### Distractors\n",
        "\n",
        "By default, there are no distractors,\n",
        "i.e. only the functions needed to complete the task are provided in the\n",
        "API definition.\n",
        "However, to force the model to disambiguate between multiple candidate functions,\n",
        "distractors can be provided as part of the prompt.\n",
        "\n",
        "For each library in the test case, distractors are sampled from the set of\n",
        "functions not evaluated in the test case, as follows:\n",
        "\n",
        "- **Number of distractors** (`num_distractors : Union[int, Dict[str, int]]`):\n",
        "  - If an `int`, samples a total of `num_distractors` distractors.\n",
        "  The distractors are sampled randomly from each library\n",
        "  used in the task, weighted by the number of times each library is used in\n",
        "  the signature.\n",
        "  - If a `Dict[str: int]`, samples `num_distractors[library]` distractors\n",
        "  for each `library`."
      ]
    },
    {
      "cell_type": "code",
      "execution_count": null,
      "metadata": {
        "id": "_WDmyei8wMrw",
        "outputId": "a2626767-24dc-4426-d731-140897eaae93",
        "colab": {
          "base_uri": "https://localhost:8080/",
          "height": 403
        }
      },
      "outputs": [
        {
          "output_type": "display_data",
          "data": {
            "text/plain": [
              "<IPython.core.display.HTML object>"
            ],
            "text/html": [
              "<b style=\"color:blue; font-size: 1.25em; margin-top: 1em;\">Prompt: </b>"
            ]
          },
          "metadata": {}
        },
        {
          "output_type": "display_data",
          "data": {
            "text/plain": [
              "<IPython.core.display.HTML object>"
            ],
            "text/html": [
              "<pre><code style=\"font-size: 0.85em; line-height: 1.2em; display: block; border: 1px solid #ddd; padding: 1em; margin-left: 0.5em;\">Consider the following functions:\n",
              "\n",
              "def solids.volume_of_prism(radius, height):\n",
              "    Calculates the volume of a prism with the given radius and the given height.\n",
              "def solids.surface_area_of_cylinder(radius, height):\n",
              "    Calculates the surface area of a cylinder with the given radius and the given height.\n",
              "def solids.volume_of_cone(radius, height):\n",
              "    Calculates the volume of a cone with the given radius and the given height.\n",
              "def solids.surface_area_of_cone(radius, height):\n",
              "    Calculates the surface area of a cone with the given radius and the given height.\n",
              "def solids.surface_area_of_prism(radius, height):\n",
              "    Calculates the surface area of a prism with the given radius and the given height.\n",
              "\n",
              "Write a function that gets the volume of a cone.\n",
              "[BEGIN]\n",
              "import solids\n",
              "def get_volume_of_cone(radius, height):\n",
              "    </code></pre>"
            ]
          },
          "metadata": {}
        },
        {
          "output_type": "display_data",
          "data": {
            "text/plain": [
              "<IPython.core.display.HTML object>"
            ],
            "text/html": [
              "<b style=\"color:red; font-size: 1.25em;\">Target: </b>"
            ]
          },
          "metadata": {}
        },
        {
          "output_type": "display_data",
          "data": {
            "text/plain": [
              "<IPython.core.display.HTML object>"
            ],
            "text/html": [
              "<pre><code style=\"font-size: 0.85em; line-height: 1.2em; display: block; border: 1px solid #ddd; padding: 1em; margin-left: 0.5em;\">return solids.volume_of_cone(radius, height)</code></pre>"
            ]
          },
          "metadata": {}
        }
      ],
      "source": [
        "view(api_use.get_example(signature=\"solids.volume_of_cone()\", \n",
        "                         description=\"gets the volume of a cone\",\n",
        "                         func_name=\"get_volume_of_cone\",\n",
        "                         num_distractors=4))"
      ]
    },
    {
      "cell_type": "code",
      "execution_count": null,
      "metadata": {
        "id": "VEY8bg9L6g1I",
        "outputId": "b5a22fba-db2b-4113-9841-a2936ac8298d",
        "colab": {
          "base_uri": "https://localhost:8080/",
          "height": 418
        }
      },
      "outputs": [
        {
          "output_type": "display_data",
          "data": {
            "text/plain": [
              "<IPython.core.display.HTML object>"
            ],
            "text/html": [
              "<b style=\"color:blue; font-size: 1.25em; margin-top: 1em;\">Prompt: </b>"
            ]
          },
          "metadata": {}
        },
        {
          "output_type": "display_data",
          "data": {
            "text/plain": [
              "<IPython.core.display.HTML object>"
            ],
            "text/html": [
              "<pre><code style=\"font-size: 0.85em; line-height: 1.2em; display: block; border: 1px solid #ddd; padding: 1em; margin-left: 0.5em;\">Consider the following functions:\n",
              "\n",
              "def molecule.get_atom_with_quantum_number(quantum_number):\n",
              "    Returns an atom in the molecule with the given quantum number.\n",
              "def molecule.get_atom_with_atomic_num(atomic_num):\n",
              "    Returns an atom in the molecule with the given atomic num.\n",
              "def molecule.get_atom_with_atomic_weight(atomic_weight):\n",
              "    Returns an atom in the molecule with the given atomic weight.\n",
              "def atom.get_atomic_num():\n",
              "    Returns the atomic num of the atom.\n",
              "def atom.get_atomic_weight():\n",
              "    Returns the atomic weight of the atom.\n",
              "def atom.get_ionization_energy():\n",
              "    Returns the ionization energy of the atom.\n",
              "\n",
              "Write a function that given a molecule, gets the atomic weight of its atom with atomic number 55.\n",
              "[BEGIN]\n",
              "def get_atomic_weight_of_atom_with_atomic_num_55(molecule, atomic_num):\n",
              "    </code></pre>"
            ]
          },
          "metadata": {}
        },
        {
          "output_type": "display_data",
          "data": {
            "text/plain": [
              "<IPython.core.display.HTML object>"
            ],
            "text/html": [
              "<b style=\"color:red; font-size: 1.25em;\">Target: </b>"
            ]
          },
          "metadata": {}
        },
        {
          "output_type": "display_data",
          "data": {
            "text/plain": [
              "<IPython.core.display.HTML object>"
            ],
            "text/html": [
              "<pre><code style=\"font-size: 0.85em; line-height: 1.2em; display: block; border: 1px solid #ddd; padding: 1em; margin-left: 0.5em;\">return molecule.get_atom_with_atomic_num(atomic_num).get_atomic_weight()</code></pre>"
            ]
          },
          "metadata": {}
        }
      ],
      "source": [
        "# Weighted random sampling\n",
        "view(api_use.get_example(signature=\"molecule.get_atom_with_atomic_num(55).get_atomic_weight()\", \n",
        "                         func_name=\"get_atomic_weight_of_atom_with_atomic_num_55\", \n",
        "                         description=\"given a molecule, gets the atomic weight of its atom with atomic number 55\",\n",
        "                         num_distractors=4))"
      ]
    },
    {
      "cell_type": "markdown",
      "metadata": {
        "id": "KtqMET5W60pV"
      },
      "source": [
        "**Position of target function** (`target_func_location : int = -1`)\n",
        "  - By default (if `-1`), spaces the functions evenly in the list\n",
        "  of confounders.\n",
        "  - If an `int` and a single function is used in the test case,\n",
        "  inserts that function at the given index.\n",
        "  If multiple functions are used in the test case, throws an error.\n",
        "  - If a `float` and a single function is used in the test case,\n",
        "  inserts that function at the closest approximate fractional\n",
        "  location (e.g. `0.5` = halfway through the list of functions).\n",
        "  If multiple functions are used in the test case, throws an error.\n",
        "  - If a `Dict[str : int]`, inserts a given function `function_name` at index\n",
        "  `target_func_location[function_name]`.\n",
        "  - If a `Dict[str : float]`, inserts a given function `function_name` at\n",
        "  fractional index `target_func_location[function_name]`.\n"
      ]
    },
    {
      "cell_type": "markdown",
      "metadata": {
        "id": "SAd9AE_37Ccs"
      },
      "source": [
        "### Formatting\n",
        "\n",
        "- **Global indent** (`indent : int = 4`):\n",
        "Controls the indent for all Python code + descriptions.\n"
      ]
    },
    {
      "cell_type": "code",
      "execution_count": null,
      "metadata": {
        "id": "RvgB2bBA7FFl",
        "outputId": "f1eea13c-4241-4d4a-f6a4-914ef22e1994",
        "colab": {
          "base_uri": "https://localhost:8080/",
          "height": 403
        }
      },
      "outputs": [
        {
          "output_type": "display_data",
          "data": {
            "text/plain": [
              "<IPython.core.display.HTML object>"
            ],
            "text/html": [
              "<b style=\"color:blue; font-size: 1.25em; margin-top: 1em;\">Prompt: </b>"
            ]
          },
          "metadata": {}
        },
        {
          "output_type": "display_data",
          "data": {
            "text/plain": [
              "<IPython.core.display.HTML object>"
            ],
            "text/html": [
              "<pre><code style=\"font-size: 0.85em; line-height: 1.2em; display: block; border: 1px solid #ddd; padding: 1em; margin-left: 0.5em;\">Consider the following functions:\n",
              "\n",
              "def solids.volume_of_prism(radius, height):\n",
              "  Calculates the volume of a prism with the given radius and the given height.\n",
              "def solids.surface_area_of_cylinder(radius, height):\n",
              "  Calculates the surface area of a cylinder with the given radius and the given height.\n",
              "def solids.volume_of_cone(radius, height):\n",
              "  Calculates the volume of a cone with the given radius and the given height.\n",
              "def solids.surface_area_of_cone(radius, height):\n",
              "  Calculates the surface area of a cone with the given radius and the given height.\n",
              "def solids.surface_area_of_prism(radius, height):\n",
              "  Calculates the surface area of a prism with the given radius and the given height.\n",
              "\n",
              "Write a function that gets the volume of a cone.\n",
              "[BEGIN]\n",
              "import solids\n",
              "def get_volume_of_cone(radius, height):\n",
              "  </code></pre>"
            ]
          },
          "metadata": {}
        },
        {
          "output_type": "display_data",
          "data": {
            "text/plain": [
              "<IPython.core.display.HTML object>"
            ],
            "text/html": [
              "<b style=\"color:red; font-size: 1.25em;\">Target: </b>"
            ]
          },
          "metadata": {}
        },
        {
          "output_type": "display_data",
          "data": {
            "text/plain": [
              "<IPython.core.display.HTML object>"
            ],
            "text/html": [
              "<pre><code style=\"font-size: 0.85em; line-height: 1.2em; display: block; border: 1px solid #ddd; padding: 1em; margin-left: 0.5em;\">return solids.volume_of_cone(radius, height)</code></pre>"
            ]
          },
          "metadata": {}
        }
      ],
      "source": [
        "view(api_use.get_example(signature=\"solids.volume_of_cone()\", \n",
        "                         description=\"gets the volume of a cone\",\n",
        "                         func_name=\"get_volume_of_cone\",\n",
        "                         num_distractors=4,\n",
        "                         indent=2))"
      ]
    },
    {
      "cell_type": "markdown",
      "metadata": {
        "id": "xK5fNJaV7Dd8"
      },
      "source": [
        "- **Intro** (`intro : str = \"Consider the following functions:\"`): Controls the introductory sentence that goes before the list of functions.\n"
      ]
    },
    {
      "cell_type": "code",
      "execution_count": null,
      "metadata": {
        "id": "nflNLfaR7g9g",
        "outputId": "62f84d58-6ee9-464d-fa2a-2952c7adfaff",
        "colab": {
          "base_uri": "https://localhost:8080/",
          "height": 403
        }
      },
      "outputs": [
        {
          "output_type": "display_data",
          "data": {
            "text/plain": [
              "<IPython.core.display.HTML object>"
            ],
            "text/html": [
              "<b style=\"color:blue; font-size: 1.25em; margin-top: 1em;\">Prompt: </b>"
            ]
          },
          "metadata": {}
        },
        {
          "output_type": "display_data",
          "data": {
            "text/plain": [
              "<IPython.core.display.HTML object>"
            ],
            "text/html": [
              "<pre><code style=\"font-size: 0.85em; line-height: 1.2em; display: block; border: 1px solid #ddd; padding: 1em; margin-left: 0.5em;\">Have a look at these wacky functions:\n",
              "\n",
              "def solids.volume_of_prism(radius, height):\n",
              "    Calculates the volume of a prism with the given radius and the given height.\n",
              "def solids.surface_area_of_cylinder(radius, height):\n",
              "    Calculates the surface area of a cylinder with the given radius and the given height.\n",
              "def solids.volume_of_cone(radius, height):\n",
              "    Calculates the volume of a cone with the given radius and the given height.\n",
              "def solids.surface_area_of_cone(radius, height):\n",
              "    Calculates the surface area of a cone with the given radius and the given height.\n",
              "def solids.surface_area_of_prism(radius, height):\n",
              "    Calculates the surface area of a prism with the given radius and the given height.\n",
              "\n",
              "Write a function that gets the volume of a cone.\n",
              "[BEGIN]\n",
              "import solids\n",
              "def get_volume_of_cone(radius, height):\n",
              "    </code></pre>"
            ]
          },
          "metadata": {}
        },
        {
          "output_type": "display_data",
          "data": {
            "text/plain": [
              "<IPython.core.display.HTML object>"
            ],
            "text/html": [
              "<b style=\"color:red; font-size: 1.25em;\">Target: </b>"
            ]
          },
          "metadata": {}
        },
        {
          "output_type": "display_data",
          "data": {
            "text/plain": [
              "<IPython.core.display.HTML object>"
            ],
            "text/html": [
              "<pre><code style=\"font-size: 0.85em; line-height: 1.2em; display: block; border: 1px solid #ddd; padding: 1em; margin-left: 0.5em;\">return solids.volume_of_cone(radius, height)</code></pre>"
            ]
          },
          "metadata": {}
        }
      ],
      "source": [
        "view(api_use.get_example(signature=\"solids.volume_of_cone()\", \n",
        "                         description=\"gets the volume of a cone\",\n",
        "                         func_name=\"get_volume_of_cone\",\n",
        "                         num_distractors=4,\n",
        "                         intro='Have a look at these wacky functions:'))"
      ]
    },
    {
      "cell_type": "markdown",
      "metadata": {
        "id": "mT-krVtU7Eo3"
      },
      "source": [
        "- **Function description**:\n",
        "By default, documentation is on a new line, indented. \n",
        "This can be modified with the following arguments:\n",
        "  - `use_quotes : bool = False`: \n",
        "  If `True`, inserts triple-quotes around each function\n",
        "  to more resemble a function definition."
      ]
    },
    {
      "cell_type": "code",
      "execution_count": null,
      "metadata": {
        "id": "r-GBWYGr7oka",
        "outputId": "71f580f9-c972-4692-dfdd-96a798e22ea4",
        "colab": {
          "base_uri": "https://localhost:8080/",
          "height": 403
        }
      },
      "outputs": [
        {
          "output_type": "display_data",
          "data": {
            "text/plain": [
              "<IPython.core.display.HTML object>"
            ],
            "text/html": [
              "<b style=\"color:blue; font-size: 1.25em; margin-top: 1em;\">Prompt: </b>"
            ]
          },
          "metadata": {}
        },
        {
          "output_type": "display_data",
          "data": {
            "text/plain": [
              "<IPython.core.display.HTML object>"
            ],
            "text/html": [
              "<pre><code style=\"font-size: 0.85em; line-height: 1.2em; display: block; border: 1px solid #ddd; padding: 1em; margin-left: 0.5em;\">Consider the following functions:\n",
              "\n",
              "def solids.volume_of_prism(radius, height):\n",
              "    \"\"\"Calculates the volume of a prism with the given radius and the given height.\"\"\"\n",
              "def solids.surface_area_of_cylinder(radius, height):\n",
              "    \"\"\"Calculates the surface area of a cylinder with the given radius and the given height.\"\"\"\n",
              "def solids.volume_of_cone(radius, height):\n",
              "    \"\"\"Calculates the volume of a cone with the given radius and the given height.\"\"\"\n",
              "def solids.surface_area_of_cone(radius, height):\n",
              "    \"\"\"Calculates the surface area of a cone with the given radius and the given height.\"\"\"\n",
              "def solids.surface_area_of_prism(radius, height):\n",
              "    \"\"\"Calculates the surface area of a prism with the given radius and the given height.\"\"\"\n",
              "\n",
              "Write a function that gets the volume of a cone.\n",
              "[BEGIN]\n",
              "import solids\n",
              "def get_volume_of_cone(radius, height):\n",
              "    </code></pre>"
            ]
          },
          "metadata": {}
        },
        {
          "output_type": "display_data",
          "data": {
            "text/plain": [
              "<IPython.core.display.HTML object>"
            ],
            "text/html": [
              "<b style=\"color:red; font-size: 1.25em;\">Target: </b>"
            ]
          },
          "metadata": {}
        },
        {
          "output_type": "display_data",
          "data": {
            "text/plain": [
              "<IPython.core.display.HTML object>"
            ],
            "text/html": [
              "<pre><code style=\"font-size: 0.85em; line-height: 1.2em; display: block; border: 1px solid #ddd; padding: 1em; margin-left: 0.5em;\">return solids.volume_of_cone(radius, height)</code></pre>"
            ]
          },
          "metadata": {}
        }
      ],
      "source": [
        "view(api_use.get_example(signature=\"solids.volume_of_cone()\", \n",
        "                         description=\"gets the volume of a cone\",\n",
        "                         func_name=\"get_volume_of_cone\",\n",
        "                         num_distractors=4,\n",
        "                         use_quotes=True))"
      ]
    },
    {
      "cell_type": "markdown",
      "metadata": {
        "id": "NZuQtMsi7uKU"
      },
      "source": [
        "- `format_function : Callable`:\n",
        "If this argument is provided, it will be used to format each function.\n",
        "Example:\n"
      ]
    },
    {
      "cell_type": "code",
      "execution_count": null,
      "metadata": {
        "id": "KnIPUj0_2b6p",
        "outputId": "85dd2e43-a911-4c10-a206-8659aae443a8",
        "colab": {
          "base_uri": "https://localhost:8080/",
          "height": 332
        }
      },
      "outputs": [
        {
          "output_type": "display_data",
          "data": {
            "text/plain": [
              "<IPython.core.display.HTML object>"
            ],
            "text/html": [
              "<b style=\"color:blue; font-size: 1.25em; margin-top: 1em;\">Prompt: </b>"
            ]
          },
          "metadata": {}
        },
        {
          "output_type": "display_data",
          "data": {
            "text/plain": [
              "<IPython.core.display.HTML object>"
            ],
            "text/html": [
              "<pre><code style=\"font-size: 0.85em; line-height: 1.2em; display: block; border: 1px solid #ddd; padding: 1em; margin-left: 0.5em;\">Consider the following functions:\n",
              "\n",
              "- solids.volume_of_prism(radius, height): Calculates the volume of a prism with the given radius and the given height.\n",
              "- solids.surface_area_of_cylinder(radius, height): Calculates the surface area of a cylinder with the given radius and the given height.\n",
              "- solids.volume_of_cone(radius, height): Calculates the volume of a cone with the given radius and the given height.\n",
              "- solids.surface_area_of_cone(radius, height): Calculates the surface area of a cone with the given radius and the given height.\n",
              "- solids.surface_area_of_prism(radius, height): Calculates the surface area of a prism with the given radius and the given height.\n",
              "\n",
              "Write a function that gets the volume of a cone.\n",
              "[BEGIN]\n",
              "import solids\n",
              "def get_volume_of_cone(radius, height):\n",
              "    </code></pre>"
            ]
          },
          "metadata": {}
        },
        {
          "output_type": "display_data",
          "data": {
            "text/plain": [
              "<IPython.core.display.HTML object>"
            ],
            "text/html": [
              "<b style=\"color:red; font-size: 1.25em;\">Target: </b>"
            ]
          },
          "metadata": {}
        },
        {
          "output_type": "display_data",
          "data": {
            "text/plain": [
              "<IPython.core.display.HTML object>"
            ],
            "text/html": [
              "<pre><code style=\"font-size: 0.85em; line-height: 1.2em; display: block; border: 1px solid #ddd; padding: 1em; margin-left: 0.5em;\">return solids.volume_of_cone(radius, height)</code></pre>"
            ]
          },
          "metadata": {}
        }
      ],
      "source": [
        "def ff(func):\n",
        "    args = func.args\n",
        "    arglist = \", \".join(args)\n",
        "    return f\"- {func.library_name}.{func.name}({arglist}): {func.definition}\"\n",
        "\n",
        "view(api_use.get_example(signature=\"solids.volume_of_cone()\", \n",
        "                         description=\"gets the volume of a cone\",\n",
        "                         func_name=\"get_volume_of_cone\",\n",
        "                         num_distractors=4,\n",
        "                         format_function=ff))"
      ]
    },
    {
      "cell_type": "code",
      "execution_count": null,
      "metadata": {
        "id": "e5kBZ6bGohI1",
        "outputId": "6155b759-a3d4-4862-8abf-374fbf3be434",
        "colab": {
          "base_uri": "https://localhost:8080/",
          "height": 332
        }
      },
      "outputs": [
        {
          "output_type": "display_data",
          "data": {
            "text/plain": [
              "<IPython.core.display.HTML object>"
            ],
            "text/html": [
              "<b style=\"color:blue; font-size: 1.25em; margin-top: 1em;\">Prompt: </b>"
            ]
          },
          "metadata": {}
        },
        {
          "output_type": "display_data",
          "data": {
            "text/plain": [
              "<IPython.core.display.HTML object>"
            ],
            "text/html": [
              "<pre><code style=\"font-size: 0.85em; line-height: 1.2em; display: block; border: 1px solid #ddd; padding: 1em; margin-left: 0.5em;\">Consider the following functions:\n",
              "\n",
              "The function volume_of_prism from the solids library takes in the arguments radius, height and Calculates the volume of a prism with the given radius and the given height.\n",
              "The function surface_area_of_cylinder from the solids library takes in the arguments radius, height and Calculates the surface area of a cylinder with the given radius and the given height.\n",
              "The function volume_of_cone from the solids library takes in the arguments radius, height and Calculates the volume of a cone with the given radius and the given height.\n",
              "The function surface_area_of_cone from the solids library takes in the arguments radius, height and Calculates the surface area of a cone with the given radius and the given height.\n",
              "The function surface_area_of_prism from the solids library takes in the arguments radius, height and Calculates the surface area of a prism with the given radius and the given height.\n",
              "\n",
              "Write a function that gets the volume of a cone.\n",
              "[BEGIN]\n",
              "import solids\n",
              "def get_volume_of_cone(radius, height):\n",
              "    </code></pre>"
            ]
          },
          "metadata": {}
        },
        {
          "output_type": "display_data",
          "data": {
            "text/plain": [
              "<IPython.core.display.HTML object>"
            ],
            "text/html": [
              "<b style=\"color:red; font-size: 1.25em;\">Target: </b>"
            ]
          },
          "metadata": {}
        },
        {
          "output_type": "display_data",
          "data": {
            "text/plain": [
              "<IPython.core.display.HTML object>"
            ],
            "text/html": [
              "<pre><code style=\"font-size: 0.85em; line-height: 1.2em; display: block; border: 1px solid #ddd; padding: 1em; margin-left: 0.5em;\">return solids.volume_of_cone(radius, height)</code></pre>"
            ]
          },
          "metadata": {}
        }
      ],
      "source": [
        "def ff(func):\n",
        "    args = func.args\n",
        "    arglist = \", \".join(args)\n",
        "    return f\"The function {func.name} from the {func.library_name} library takes in the arguments {arglist} and {func.definition}\"\n",
        "\n",
        "view(api_use.get_example(signature=\"solids.volume_of_cone()\", \n",
        "                         description=\"gets the volume of a cone\",\n",
        "                         func_name=\"get_volume_of_cone\",\n",
        "                         num_distractors=4,\n",
        "                         format_function=ff))"
      ]
    },
    {
      "cell_type": "markdown",
      "metadata": {
        "id": "2GHF8Gtp7-6t"
      },
      "source": [
        "- **Preamble joiner (`joiner : str`)**: Controls the separator between each function definition. By default, this is a single newline."
      ]
    },
    {
      "cell_type": "code",
      "execution_count": null,
      "metadata": {
        "id": "G4YO9fIK70Je",
        "outputId": "f47c4301-7f88-4988-dd4e-89e27b6c069c",
        "colab": {
          "base_uri": "https://localhost:8080/",
          "height": 461
        }
      },
      "outputs": [
        {
          "output_type": "display_data",
          "data": {
            "text/plain": [
              "<IPython.core.display.HTML object>"
            ],
            "text/html": [
              "<b style=\"color:blue; font-size: 1.25em; margin-top: 1em;\">Prompt: </b>"
            ]
          },
          "metadata": {}
        },
        {
          "output_type": "display_data",
          "data": {
            "text/plain": [
              "<IPython.core.display.HTML object>"
            ],
            "text/html": [
              "<pre><code style=\"font-size: 0.85em; line-height: 1.2em; display: block; border: 1px solid #ddd; padding: 1em; margin-left: 0.5em;\">Consider the following functions:\n",
              "\n",
              "def solids.volume_of_prism(radius, height):\n",
              "    Calculates the volume of a prism with the given radius and the given height.\n",
              "---\n",
              "def solids.surface_area_of_cylinder(radius, height):\n",
              "    Calculates the surface area of a cylinder with the given radius and the given height.\n",
              "---\n",
              "def solids.volume_of_cone(radius, height):\n",
              "    Calculates the volume of a cone with the given radius and the given height.\n",
              "---\n",
              "def solids.surface_area_of_cone(radius, height):\n",
              "    Calculates the surface area of a cone with the given radius and the given height.\n",
              "---\n",
              "def solids.surface_area_of_prism(radius, height):\n",
              "    Calculates the surface area of a prism with the given radius and the given height.\n",
              "\n",
              "Write a function that gets the volume of a cone.\n",
              "[BEGIN]\n",
              "import solids\n",
              "def get_volume_of_cone(radius, height):\n",
              "    </code></pre>"
            ]
          },
          "metadata": {}
        },
        {
          "output_type": "display_data",
          "data": {
            "text/plain": [
              "<IPython.core.display.HTML object>"
            ],
            "text/html": [
              "<b style=\"color:red; font-size: 1.25em;\">Target: </b>"
            ]
          },
          "metadata": {}
        },
        {
          "output_type": "display_data",
          "data": {
            "text/plain": [
              "<IPython.core.display.HTML object>"
            ],
            "text/html": [
              "<pre><code style=\"font-size: 0.85em; line-height: 1.2em; display: block; border: 1px solid #ddd; padding: 1em; margin-left: 0.5em;\">return solids.volume_of_cone(radius, height)</code></pre>"
            ]
          },
          "metadata": {}
        }
      ],
      "source": [
        "view(api_use.get_example(signature=\"solids.volume_of_cone()\", \n",
        "                         description=\"gets the volume of a cone\",\n",
        "                         func_name=\"get_volume_of_cone\",\n",
        "                         num_distractors=4,\n",
        "                         joiner='\\n---\\n'))"
      ]
    }
  ],
  "metadata": {
    "colab": {
      "collapsed_sections": [],
      "name": "demo_colab.ipynb",
      "provenance": [],
      "include_colab_link": true
    },
    "kernelspec": {
      "display_name": "Python 3",
      "language": "python",
      "name": "python3"
    },
    "language_info": {
      "codemirror_mode": {
        "name": "ipython",
        "version": 3
      },
      "file_extension": ".py",
      "mimetype": "text/x-python",
      "name": "python",
      "nbconvert_exporter": "python",
      "pygments_lexer": "ipython3",
      "version": "3.8.0"
    },
    "widgets": {
      "application/vnd.jupyter.widget-state+json": {
        "b3c4c955088947589207ee797cdeeaca": {
          "model_module": "@jupyter-widgets/controls",
          "model_name": "VBoxModel",
          "model_module_version": "1.5.0",
          "state": {
            "_dom_classes": [
              "widget-interact"
            ],
            "_model_module": "@jupyter-widgets/controls",
            "_model_module_version": "1.5.0",
            "_model_name": "VBoxModel",
            "_view_count": null,
            "_view_module": "@jupyter-widgets/controls",
            "_view_module_version": "1.5.0",
            "_view_name": "VBoxView",
            "box_style": "",
            "children": [
              "IPY_MODEL_17f7791e1ce24762bdb4b10a099d512b",
              "IPY_MODEL_e43e1c4ded9d453aa143d439ffd7862a",
              "IPY_MODEL_1272c69070364cee8fc472d215a1c325"
            ],
            "layout": "IPY_MODEL_11e40792517a4cf5a236a9f0a57f2739"
          }
        },
        "17f7791e1ce24762bdb4b10a099d512b": {
          "model_module": "@jupyter-widgets/controls",
          "model_name": "IntSliderModel",
          "model_module_version": "1.5.0",
          "state": {
            "_dom_classes": [],
            "_model_module": "@jupyter-widgets/controls",
            "_model_module_version": "1.5.0",
            "_model_name": "IntSliderModel",
            "_view_count": null,
            "_view_module": "@jupyter-widgets/controls",
            "_view_module_version": "1.5.0",
            "_view_name": "IntSliderView",
            "continuous_update": true,
            "description": "num_distractors",
            "description_tooltip": null,
            "disabled": false,
            "layout": "IPY_MODEL_be5c5cdd84764632a6aac6b1ce0fccf4",
            "max": 8,
            "min": 0,
            "orientation": "horizontal",
            "readout": true,
            "readout_format": "d",
            "step": 1,
            "style": "IPY_MODEL_531ed4b8f6f143bfb2a24ad446846481",
            "value": 5
          }
        },
        "e43e1c4ded9d453aa143d439ffd7862a": {
          "model_module": "@jupyter-widgets/controls",
          "model_name": "FloatSliderModel",
          "model_module_version": "1.5.0",
          "state": {
            "_dom_classes": [],
            "_model_module": "@jupyter-widgets/controls",
            "_model_module_version": "1.5.0",
            "_model_name": "FloatSliderModel",
            "_view_count": null,
            "_view_module": "@jupyter-widgets/controls",
            "_view_module_version": "1.5.0",
            "_view_name": "FloatSliderView",
            "continuous_update": true,
            "description": "target_func_location",
            "description_tooltip": null,
            "disabled": false,
            "layout": "IPY_MODEL_62d35e4728b949d7aa5d2288452c18eb",
            "max": 1,
            "min": 0,
            "orientation": "horizontal",
            "readout": true,
            "readout_format": ".2f",
            "step": 0.01,
            "style": "IPY_MODEL_84f00237bb3e4fbea9c761e8030bbd6f",
            "value": 0.5
          }
        },
        "1272c69070364cee8fc472d215a1c325": {
          "model_module": "@jupyter-widgets/output",
          "model_name": "OutputModel",
          "model_module_version": "1.0.0",
          "state": {
            "_dom_classes": [],
            "_model_module": "@jupyter-widgets/output",
            "_model_module_version": "1.0.0",
            "_model_name": "OutputModel",
            "_view_count": null,
            "_view_module": "@jupyter-widgets/output",
            "_view_module_version": "1.0.0",
            "_view_name": "OutputView",
            "layout": "IPY_MODEL_92f3853ca86d432e8987acda4b39e92e",
            "msg_id": "",
            "outputs": [
              {
                "output_type": "display_data",
                "data": {
                  "text/plain": "<IPython.core.display.HTML object>",
                  "text/html": "<b style=\"color:blue; font-size: 1.25em; margin-top: 1em;\">Prompt: </b>"
                },
                "metadata": {}
              },
              {
                "output_type": "display_data",
                "data": {
                  "text/plain": "<IPython.core.display.HTML object>",
                  "text/html": "<pre><code style=\"font-size: 0.85em; line-height: 1.2em; display: block; border: 1px solid #ddd; padding: 1em; margin-left: 0.5em;\">Consider the following functions:\n\ndef solids.volume_of_prism(radius, height):\n    Calculates the volume of a prism with the given radius and the given height.\ndef solids.surface_area_of_cylinder(radius, height):\n    Calculates the surface area of a cylinder with the given radius and the given height.\ndef solids.volume_of_cone(radius, height):\n    Calculates the volume of a cone with the given radius and the given height.\ndef solids.surface_area_of_cone(radius, height):\n    Calculates the surface area of a cone with the given radius and the given height.\ndef solids.surface_area_of_prism(radius, height):\n    Calculates the surface area of a prism with the given radius and the given height.\ndef solids.surface_area_of_parallelepiped(radius, height):\n    Calculates the surface area of a parallelepiped with the given radius and the given height.\n\nWrite a function that gets the volume of a cone.\n[BEGIN]\nimport solids\ndef get_volume_of_cone(radius, height):\n    </code></pre>"
                },
                "metadata": {}
              },
              {
                "output_type": "display_data",
                "data": {
                  "text/plain": "<IPython.core.display.HTML object>",
                  "text/html": "<b style=\"color:red; font-size: 1.25em;\">Target: </b>"
                },
                "metadata": {}
              },
              {
                "output_type": "display_data",
                "data": {
                  "text/plain": "<IPython.core.display.HTML object>",
                  "text/html": "<pre><code style=\"font-size: 0.85em; line-height: 1.2em; display: block; border: 1px solid #ddd; padding: 1em; margin-left: 0.5em;\">return solids.volume_of_cone(radius, height)</code></pre>"
                },
                "metadata": {}
              }
            ]
          }
        },
        "11e40792517a4cf5a236a9f0a57f2739": {
          "model_module": "@jupyter-widgets/base",
          "model_name": "LayoutModel",
          "model_module_version": "1.2.0",
          "state": {
            "_model_module": "@jupyter-widgets/base",
            "_model_module_version": "1.2.0",
            "_model_name": "LayoutModel",
            "_view_count": null,
            "_view_module": "@jupyter-widgets/base",
            "_view_module_version": "1.2.0",
            "_view_name": "LayoutView",
            "align_content": null,
            "align_items": null,
            "align_self": null,
            "border": null,
            "bottom": null,
            "display": null,
            "flex": null,
            "flex_flow": null,
            "grid_area": null,
            "grid_auto_columns": null,
            "grid_auto_flow": null,
            "grid_auto_rows": null,
            "grid_column": null,
            "grid_gap": null,
            "grid_row": null,
            "grid_template_areas": null,
            "grid_template_columns": null,
            "grid_template_rows": null,
            "height": null,
            "justify_content": null,
            "justify_items": null,
            "left": null,
            "margin": null,
            "max_height": null,
            "max_width": null,
            "min_height": null,
            "min_width": null,
            "object_fit": null,
            "object_position": null,
            "order": null,
            "overflow": null,
            "overflow_x": null,
            "overflow_y": null,
            "padding": null,
            "right": null,
            "top": null,
            "visibility": null,
            "width": null
          }
        },
        "be5c5cdd84764632a6aac6b1ce0fccf4": {
          "model_module": "@jupyter-widgets/base",
          "model_name": "LayoutModel",
          "model_module_version": "1.2.0",
          "state": {
            "_model_module": "@jupyter-widgets/base",
            "_model_module_version": "1.2.0",
            "_model_name": "LayoutModel",
            "_view_count": null,
            "_view_module": "@jupyter-widgets/base",
            "_view_module_version": "1.2.0",
            "_view_name": "LayoutView",
            "align_content": null,
            "align_items": null,
            "align_self": null,
            "border": null,
            "bottom": null,
            "display": null,
            "flex": null,
            "flex_flow": null,
            "grid_area": null,
            "grid_auto_columns": null,
            "grid_auto_flow": null,
            "grid_auto_rows": null,
            "grid_column": null,
            "grid_gap": null,
            "grid_row": null,
            "grid_template_areas": null,
            "grid_template_columns": null,
            "grid_template_rows": null,
            "height": null,
            "justify_content": null,
            "justify_items": null,
            "left": null,
            "margin": null,
            "max_height": null,
            "max_width": null,
            "min_height": null,
            "min_width": null,
            "object_fit": null,
            "object_position": null,
            "order": null,
            "overflow": null,
            "overflow_x": null,
            "overflow_y": null,
            "padding": null,
            "right": null,
            "top": null,
            "visibility": null,
            "width": null
          }
        },
        "531ed4b8f6f143bfb2a24ad446846481": {
          "model_module": "@jupyter-widgets/controls",
          "model_name": "SliderStyleModel",
          "model_module_version": "1.5.0",
          "state": {
            "_model_module": "@jupyter-widgets/controls",
            "_model_module_version": "1.5.0",
            "_model_name": "SliderStyleModel",
            "_view_count": null,
            "_view_module": "@jupyter-widgets/base",
            "_view_module_version": "1.2.0",
            "_view_name": "StyleView",
            "description_width": "",
            "handle_color": null
          }
        },
        "62d35e4728b949d7aa5d2288452c18eb": {
          "model_module": "@jupyter-widgets/base",
          "model_name": "LayoutModel",
          "model_module_version": "1.2.0",
          "state": {
            "_model_module": "@jupyter-widgets/base",
            "_model_module_version": "1.2.0",
            "_model_name": "LayoutModel",
            "_view_count": null,
            "_view_module": "@jupyter-widgets/base",
            "_view_module_version": "1.2.0",
            "_view_name": "LayoutView",
            "align_content": null,
            "align_items": null,
            "align_self": null,
            "border": null,
            "bottom": null,
            "display": null,
            "flex": null,
            "flex_flow": null,
            "grid_area": null,
            "grid_auto_columns": null,
            "grid_auto_flow": null,
            "grid_auto_rows": null,
            "grid_column": null,
            "grid_gap": null,
            "grid_row": null,
            "grid_template_areas": null,
            "grid_template_columns": null,
            "grid_template_rows": null,
            "height": null,
            "justify_content": null,
            "justify_items": null,
            "left": null,
            "margin": null,
            "max_height": null,
            "max_width": null,
            "min_height": null,
            "min_width": null,
            "object_fit": null,
            "object_position": null,
            "order": null,
            "overflow": null,
            "overflow_x": null,
            "overflow_y": null,
            "padding": null,
            "right": null,
            "top": null,
            "visibility": null,
            "width": null
          }
        },
        "84f00237bb3e4fbea9c761e8030bbd6f": {
          "model_module": "@jupyter-widgets/controls",
          "model_name": "SliderStyleModel",
          "model_module_version": "1.5.0",
          "state": {
            "_model_module": "@jupyter-widgets/controls",
            "_model_module_version": "1.5.0",
            "_model_name": "SliderStyleModel",
            "_view_count": null,
            "_view_module": "@jupyter-widgets/base",
            "_view_module_version": "1.2.0",
            "_view_name": "StyleView",
            "description_width": "",
            "handle_color": null
          }
        },
        "92f3853ca86d432e8987acda4b39e92e": {
          "model_module": "@jupyter-widgets/base",
          "model_name": "LayoutModel",
          "model_module_version": "1.2.0",
          "state": {
            "_model_module": "@jupyter-widgets/base",
            "_model_module_version": "1.2.0",
            "_model_name": "LayoutModel",
            "_view_count": null,
            "_view_module": "@jupyter-widgets/base",
            "_view_module_version": "1.2.0",
            "_view_name": "LayoutView",
            "align_content": null,
            "align_items": null,
            "align_self": null,
            "border": null,
            "bottom": null,
            "display": null,
            "flex": null,
            "flex_flow": null,
            "grid_area": null,
            "grid_auto_columns": null,
            "grid_auto_flow": null,
            "grid_auto_rows": null,
            "grid_column": null,
            "grid_gap": null,
            "grid_row": null,
            "grid_template_areas": null,
            "grid_template_columns": null,
            "grid_template_rows": null,
            "height": null,
            "justify_content": null,
            "justify_items": null,
            "left": null,
            "margin": null,
            "max_height": null,
            "max_width": null,
            "min_height": null,
            "min_width": null,
            "object_fit": null,
            "object_position": null,
            "order": null,
            "overflow": null,
            "overflow_x": null,
            "overflow_y": null,
            "padding": null,
            "right": null,
            "top": null,
            "visibility": null,
            "width": null
          }
        },
        "2e98d6780654469e9638627c7b703bcb": {
          "model_module": "@jupyter-widgets/controls",
          "model_name": "VBoxModel",
          "model_module_version": "1.5.0",
          "state": {
            "_dom_classes": [
              "widget-interact"
            ],
            "_model_module": "@jupyter-widgets/controls",
            "_model_module_version": "1.5.0",
            "_model_name": "VBoxModel",
            "_view_count": null,
            "_view_module": "@jupyter-widgets/controls",
            "_view_module_version": "1.5.0",
            "_view_name": "VBoxView",
            "box_style": "",
            "children": [
              "IPY_MODEL_ef091ba4ed9f456cb6aeccff7b253f75",
              "IPY_MODEL_f9372954d3734df496cce2ffef2b0512",
              "IPY_MODEL_bd310007a58a4d1391547abdafaab941",
              "IPY_MODEL_9e41fc7c41d74473bb4e62804c2a8558"
            ],
            "layout": "IPY_MODEL_5e54ea59ab3a404780d6482b17984197"
          }
        },
        "ef091ba4ed9f456cb6aeccff7b253f75": {
          "model_module": "@jupyter-widgets/controls",
          "model_name": "DropdownModel",
          "model_module_version": "1.5.0",
          "state": {
            "_dom_classes": [],
            "_model_module": "@jupyter-widgets/controls",
            "_model_module_version": "1.5.0",
            "_model_name": "DropdownModel",
            "_options_labels": [
              "number",
              "none",
              "swap"
            ],
            "_view_count": null,
            "_view_module": "@jupyter-widgets/controls",
            "_view_module_version": "1.5.0",
            "_view_name": "DropdownView",
            "description": "func_noise_type",
            "description_tooltip": null,
            "disabled": false,
            "index": 1,
            "layout": "IPY_MODEL_9ea87d8e59cc4d718cd1672e01727610",
            "style": "IPY_MODEL_02d2eab20a614ea0a0fa99a650fa4905"
          }
        },
        "f9372954d3734df496cce2ffef2b0512": {
          "model_module": "@jupyter-widgets/controls",
          "model_name": "DropdownModel",
          "model_module_version": "1.5.0",
          "state": {
            "_dom_classes": [],
            "_model_module": "@jupyter-widgets/controls",
            "_model_module_version": "1.5.0",
            "_model_name": "DropdownModel",
            "_options_labels": [
              "none",
              "number"
            ],
            "_view_count": null,
            "_view_module": "@jupyter-widgets/controls",
            "_view_module_version": "1.5.0",
            "_view_name": "DropdownView",
            "description": "arg_noise_type",
            "description_tooltip": null,
            "disabled": false,
            "index": 0,
            "layout": "IPY_MODEL_870ebc701c174a6baf12085f07dbfa63",
            "style": "IPY_MODEL_1a43b4c5a7774cd28d236b4352213c2e"
          }
        },
        "bd310007a58a4d1391547abdafaab941": {
          "model_module": "@jupyter-widgets/controls",
          "model_name": "DropdownModel",
          "model_module_version": "1.5.0",
          "state": {
            "_dom_classes": [],
            "_model_module": "@jupyter-widgets/controls",
            "_model_module_version": "1.5.0",
            "_model_name": "DropdownModel",
            "_options_labels": [
              "none",
              "swap"
            ],
            "_view_count": null,
            "_view_module": "@jupyter-widgets/controls",
            "_view_module_version": "1.5.0",
            "_view_name": "DropdownView",
            "description": "desc_noise_type",
            "description_tooltip": null,
            "disabled": false,
            "index": 1,
            "layout": "IPY_MODEL_ff938f79ccc94a2fade1c26f541d9e8f",
            "style": "IPY_MODEL_514baf05f8504ea3910ad428f2a624a8"
          }
        },
        "9e41fc7c41d74473bb4e62804c2a8558": {
          "model_module": "@jupyter-widgets/output",
          "model_name": "OutputModel",
          "model_module_version": "1.0.0",
          "state": {
            "_dom_classes": [],
            "_model_module": "@jupyter-widgets/output",
            "_model_module_version": "1.0.0",
            "_model_name": "OutputModel",
            "_view_count": null,
            "_view_module": "@jupyter-widgets/output",
            "_view_module_version": "1.0.0",
            "_view_name": "OutputView",
            "layout": "IPY_MODEL_b2e5c8a9fc454578b343358a9517e8da",
            "msg_id": "",
            "outputs": [
              {
                "output_type": "display_data",
                "data": {
                  "text/plain": "<IPython.core.display.HTML object>",
                  "text/html": "<b style=\"color:blue; font-size: 1.25em; margin-top: 1em;\">Prompt: </b>"
                },
                "metadata": {}
              },
              {
                "output_type": "display_data",
                "data": {
                  "text/plain": "<IPython.core.display.HTML object>",
                  "text/html": "<pre><code style=\"font-size: 0.85em; line-height: 1.2em; display: block; border: 1px solid #ddd; padding: 1em; margin-left: 0.5em;\">Consider the following functions:\n\ndef solids.volume_of_prism(radius, height):\n    Calculates the surface area of a cylinder with the given radius and the given height.\ndef solids.surface_area_of_cylinder(radius, height):\n    Calculates the volume of a parallelepiped with the given radius and the given height.\ndef solids.surface_area_of_cone(radius, height):\n    Calculates the surface area of a prism with the given radius and the given height.\ndef solids.surface_area_of_prism(radius, height):\n    Calculates the volume of a cone with the given radius and the given height.\ndef solids.volume_of_cone(radius, height):\n    Calculates the volume of a prism with the given radius and the given height.\ndef solids.surface_area_of_parallelepiped(radius, height):\n    Calculates the surface area of a capsule with the given radius and the given height.\ndef solids.volume_of_parallelepiped(radius, height):\n    Calculates the surface area of a parallelepiped with the given radius and the given height.\ndef solids.volume_of_capsule(radius, height):\n    Calculates the volume of a capsule with the given radius and the given height.\ndef solids.surface_area_of_capsule(radius, height):\n    Calculates the surface area of a cone with the given radius and the given height.\n\nWrite a function that gets the volume of a cone.\n[BEGIN]\nimport solids\ndef get_volume_of_cone(radius, height):\n    </code></pre>"
                },
                "metadata": {}
              },
              {
                "output_type": "display_data",
                "data": {
                  "text/plain": "<IPython.core.display.HTML object>",
                  "text/html": "<b style=\"color:red; font-size: 1.25em;\">Target: </b>"
                },
                "metadata": {}
              },
              {
                "output_type": "display_data",
                "data": {
                  "text/plain": "<IPython.core.display.HTML object>",
                  "text/html": "<pre><code style=\"font-size: 0.85em; line-height: 1.2em; display: block; border: 1px solid #ddd; padding: 1em; margin-left: 0.5em;\">return solids.volume_of_cone(radius, height)</code></pre>"
                },
                "metadata": {}
              }
            ]
          }
        },
        "5e54ea59ab3a404780d6482b17984197": {
          "model_module": "@jupyter-widgets/base",
          "model_name": "LayoutModel",
          "model_module_version": "1.2.0",
          "state": {
            "_model_module": "@jupyter-widgets/base",
            "_model_module_version": "1.2.0",
            "_model_name": "LayoutModel",
            "_view_count": null,
            "_view_module": "@jupyter-widgets/base",
            "_view_module_version": "1.2.0",
            "_view_name": "LayoutView",
            "align_content": null,
            "align_items": null,
            "align_self": null,
            "border": null,
            "bottom": null,
            "display": null,
            "flex": null,
            "flex_flow": null,
            "grid_area": null,
            "grid_auto_columns": null,
            "grid_auto_flow": null,
            "grid_auto_rows": null,
            "grid_column": null,
            "grid_gap": null,
            "grid_row": null,
            "grid_template_areas": null,
            "grid_template_columns": null,
            "grid_template_rows": null,
            "height": null,
            "justify_content": null,
            "justify_items": null,
            "left": null,
            "margin": null,
            "max_height": null,
            "max_width": null,
            "min_height": null,
            "min_width": null,
            "object_fit": null,
            "object_position": null,
            "order": null,
            "overflow": null,
            "overflow_x": null,
            "overflow_y": null,
            "padding": null,
            "right": null,
            "top": null,
            "visibility": null,
            "width": null
          }
        },
        "9ea87d8e59cc4d718cd1672e01727610": {
          "model_module": "@jupyter-widgets/base",
          "model_name": "LayoutModel",
          "model_module_version": "1.2.0",
          "state": {
            "_model_module": "@jupyter-widgets/base",
            "_model_module_version": "1.2.0",
            "_model_name": "LayoutModel",
            "_view_count": null,
            "_view_module": "@jupyter-widgets/base",
            "_view_module_version": "1.2.0",
            "_view_name": "LayoutView",
            "align_content": null,
            "align_items": null,
            "align_self": null,
            "border": null,
            "bottom": null,
            "display": null,
            "flex": null,
            "flex_flow": null,
            "grid_area": null,
            "grid_auto_columns": null,
            "grid_auto_flow": null,
            "grid_auto_rows": null,
            "grid_column": null,
            "grid_gap": null,
            "grid_row": null,
            "grid_template_areas": null,
            "grid_template_columns": null,
            "grid_template_rows": null,
            "height": null,
            "justify_content": null,
            "justify_items": null,
            "left": null,
            "margin": null,
            "max_height": null,
            "max_width": null,
            "min_height": null,
            "min_width": null,
            "object_fit": null,
            "object_position": null,
            "order": null,
            "overflow": null,
            "overflow_x": null,
            "overflow_y": null,
            "padding": null,
            "right": null,
            "top": null,
            "visibility": null,
            "width": null
          }
        },
        "02d2eab20a614ea0a0fa99a650fa4905": {
          "model_module": "@jupyter-widgets/controls",
          "model_name": "DescriptionStyleModel",
          "model_module_version": "1.5.0",
          "state": {
            "_model_module": "@jupyter-widgets/controls",
            "_model_module_version": "1.5.0",
            "_model_name": "DescriptionStyleModel",
            "_view_count": null,
            "_view_module": "@jupyter-widgets/base",
            "_view_module_version": "1.2.0",
            "_view_name": "StyleView",
            "description_width": ""
          }
        },
        "870ebc701c174a6baf12085f07dbfa63": {
          "model_module": "@jupyter-widgets/base",
          "model_name": "LayoutModel",
          "model_module_version": "1.2.0",
          "state": {
            "_model_module": "@jupyter-widgets/base",
            "_model_module_version": "1.2.0",
            "_model_name": "LayoutModel",
            "_view_count": null,
            "_view_module": "@jupyter-widgets/base",
            "_view_module_version": "1.2.0",
            "_view_name": "LayoutView",
            "align_content": null,
            "align_items": null,
            "align_self": null,
            "border": null,
            "bottom": null,
            "display": null,
            "flex": null,
            "flex_flow": null,
            "grid_area": null,
            "grid_auto_columns": null,
            "grid_auto_flow": null,
            "grid_auto_rows": null,
            "grid_column": null,
            "grid_gap": null,
            "grid_row": null,
            "grid_template_areas": null,
            "grid_template_columns": null,
            "grid_template_rows": null,
            "height": null,
            "justify_content": null,
            "justify_items": null,
            "left": null,
            "margin": null,
            "max_height": null,
            "max_width": null,
            "min_height": null,
            "min_width": null,
            "object_fit": null,
            "object_position": null,
            "order": null,
            "overflow": null,
            "overflow_x": null,
            "overflow_y": null,
            "padding": null,
            "right": null,
            "top": null,
            "visibility": null,
            "width": null
          }
        },
        "1a43b4c5a7774cd28d236b4352213c2e": {
          "model_module": "@jupyter-widgets/controls",
          "model_name": "DescriptionStyleModel",
          "model_module_version": "1.5.0",
          "state": {
            "_model_module": "@jupyter-widgets/controls",
            "_model_module_version": "1.5.0",
            "_model_name": "DescriptionStyleModel",
            "_view_count": null,
            "_view_module": "@jupyter-widgets/base",
            "_view_module_version": "1.2.0",
            "_view_name": "StyleView",
            "description_width": ""
          }
        },
        "ff938f79ccc94a2fade1c26f541d9e8f": {
          "model_module": "@jupyter-widgets/base",
          "model_name": "LayoutModel",
          "model_module_version": "1.2.0",
          "state": {
            "_model_module": "@jupyter-widgets/base",
            "_model_module_version": "1.2.0",
            "_model_name": "LayoutModel",
            "_view_count": null,
            "_view_module": "@jupyter-widgets/base",
            "_view_module_version": "1.2.0",
            "_view_name": "LayoutView",
            "align_content": null,
            "align_items": null,
            "align_self": null,
            "border": null,
            "bottom": null,
            "display": null,
            "flex": null,
            "flex_flow": null,
            "grid_area": null,
            "grid_auto_columns": null,
            "grid_auto_flow": null,
            "grid_auto_rows": null,
            "grid_column": null,
            "grid_gap": null,
            "grid_row": null,
            "grid_template_areas": null,
            "grid_template_columns": null,
            "grid_template_rows": null,
            "height": null,
            "justify_content": null,
            "justify_items": null,
            "left": null,
            "margin": null,
            "max_height": null,
            "max_width": null,
            "min_height": null,
            "min_width": null,
            "object_fit": null,
            "object_position": null,
            "order": null,
            "overflow": null,
            "overflow_x": null,
            "overflow_y": null,
            "padding": null,
            "right": null,
            "top": null,
            "visibility": null,
            "width": null
          }
        },
        "514baf05f8504ea3910ad428f2a624a8": {
          "model_module": "@jupyter-widgets/controls",
          "model_name": "DescriptionStyleModel",
          "model_module_version": "1.5.0",
          "state": {
            "_model_module": "@jupyter-widgets/controls",
            "_model_module_version": "1.5.0",
            "_model_name": "DescriptionStyleModel",
            "_view_count": null,
            "_view_module": "@jupyter-widgets/base",
            "_view_module_version": "1.2.0",
            "_view_name": "StyleView",
            "description_width": ""
          }
        },
        "b2e5c8a9fc454578b343358a9517e8da": {
          "model_module": "@jupyter-widgets/base",
          "model_name": "LayoutModel",
          "model_module_version": "1.2.0",
          "state": {
            "_model_module": "@jupyter-widgets/base",
            "_model_module_version": "1.2.0",
            "_model_name": "LayoutModel",
            "_view_count": null,
            "_view_module": "@jupyter-widgets/base",
            "_view_module_version": "1.2.0",
            "_view_name": "LayoutView",
            "align_content": null,
            "align_items": null,
            "align_self": null,
            "border": null,
            "bottom": null,
            "display": null,
            "flex": null,
            "flex_flow": null,
            "grid_area": null,
            "grid_auto_columns": null,
            "grid_auto_flow": null,
            "grid_auto_rows": null,
            "grid_column": null,
            "grid_gap": null,
            "grid_row": null,
            "grid_template_areas": null,
            "grid_template_columns": null,
            "grid_template_rows": null,
            "height": null,
            "justify_content": null,
            "justify_items": null,
            "left": null,
            "margin": null,
            "max_height": null,
            "max_width": null,
            "min_height": null,
            "min_width": null,
            "object_fit": null,
            "object_position": null,
            "order": null,
            "overflow": null,
            "overflow_x": null,
            "overflow_y": null,
            "padding": null,
            "right": null,
            "top": null,
            "visibility": null,
            "width": null
          }
        },
        "c2b554eb7fea44e79ab9f6c097f0d0e6": {
          "model_module": "@jupyter-widgets/controls",
          "model_name": "VBoxModel",
          "model_module_version": "1.5.0",
          "state": {
            "_dom_classes": [
              "widget-interact"
            ],
            "_model_module": "@jupyter-widgets/controls",
            "_model_module_version": "1.5.0",
            "_model_name": "VBoxModel",
            "_view_count": null,
            "_view_module": "@jupyter-widgets/controls",
            "_view_module_version": "1.5.0",
            "_view_name": "VBoxView",
            "box_style": "",
            "children": [
              "IPY_MODEL_08380d5ced014248b3d0dea5ddcf551d",
              "IPY_MODEL_0a05b67b9d3341fc982364396baa7384"
            ],
            "layout": "IPY_MODEL_0ed081d0ac5e446294c13872dcc3097c"
          }
        },
        "08380d5ced014248b3d0dea5ddcf551d": {
          "model_module": "@jupyter-widgets/controls",
          "model_name": "DropdownModel",
          "model_module_version": "1.5.0",
          "state": {
            "_dom_classes": [],
            "_model_module": "@jupyter-widgets/controls",
            "_model_module_version": "1.5.0",
            "_model_name": "DropdownModel",
            "_options_labels": [
              "[0, 1, 2]",
              "[2, 1, 0]",
              "[1, 0, 2]"
            ],
            "_view_count": null,
            "_view_module": "@jupyter-widgets/controls",
            "_view_module_version": "1.5.0",
            "_view_name": "DropdownView",
            "description": "arg_order",
            "description_tooltip": null,
            "disabled": false,
            "index": 0,
            "layout": "IPY_MODEL_2be8302c557a442ab0c75db209910723",
            "style": "IPY_MODEL_f99c8303291d4de5ba95dc4895a75212"
          }
        },
        "0a05b67b9d3341fc982364396baa7384": {
          "model_module": "@jupyter-widgets/output",
          "model_name": "OutputModel",
          "model_module_version": "1.0.0",
          "state": {
            "_dom_classes": [],
            "_model_module": "@jupyter-widgets/output",
            "_model_module_version": "1.0.0",
            "_model_name": "OutputModel",
            "_view_count": null,
            "_view_module": "@jupyter-widgets/output",
            "_view_module_version": "1.0.0",
            "_view_name": "OutputView",
            "layout": "IPY_MODEL_b9962acd11594a1c863bfd44149c95ad",
            "msg_id": "",
            "outputs": [
              {
                "output_type": "display_data",
                "data": {
                  "text/plain": "<IPython.core.display.HTML object>",
                  "text/html": "<b style=\"color:blue; font-size: 1.25em; margin-top: 1em;\">Prompt: </b>"
                },
                "metadata": {}
              },
              {
                "output_type": "display_data",
                "data": {
                  "text/plain": "<IPython.core.display.HTML object>",
                  "text/html": "<pre><code style=\"font-size: 0.85em; line-height: 1.2em; display: block; border: 1px solid #ddd; padding: 1em; margin-left: 0.5em;\">Consider the following functions:\n\ndef solids.volume_of_cone(length, width, height):\n    Calculates the volume of a cone with the given length, the given width and the given height.\n\nWrite a function that gets the volume of a cone.\n[BEGIN]\nimport solids\ndef get_volume_of_cone(length, width, height):\n    </code></pre>"
                },
                "metadata": {}
              },
              {
                "output_type": "display_data",
                "data": {
                  "text/plain": "<IPython.core.display.HTML object>",
                  "text/html": "<b style=\"color:red; font-size: 1.25em;\">Target: </b>"
                },
                "metadata": {}
              },
              {
                "output_type": "display_data",
                "data": {
                  "text/plain": "<IPython.core.display.HTML object>",
                  "text/html": "<pre><code style=\"font-size: 0.85em; line-height: 1.2em; display: block; border: 1px solid #ddd; padding: 1em; margin-left: 0.5em;\">return solids.volume_of_cone(length, width, height)</code></pre>"
                },
                "metadata": {}
              }
            ]
          }
        },
        "0ed081d0ac5e446294c13872dcc3097c": {
          "model_module": "@jupyter-widgets/base",
          "model_name": "LayoutModel",
          "model_module_version": "1.2.0",
          "state": {
            "_model_module": "@jupyter-widgets/base",
            "_model_module_version": "1.2.0",
            "_model_name": "LayoutModel",
            "_view_count": null,
            "_view_module": "@jupyter-widgets/base",
            "_view_module_version": "1.2.0",
            "_view_name": "LayoutView",
            "align_content": null,
            "align_items": null,
            "align_self": null,
            "border": null,
            "bottom": null,
            "display": null,
            "flex": null,
            "flex_flow": null,
            "grid_area": null,
            "grid_auto_columns": null,
            "grid_auto_flow": null,
            "grid_auto_rows": null,
            "grid_column": null,
            "grid_gap": null,
            "grid_row": null,
            "grid_template_areas": null,
            "grid_template_columns": null,
            "grid_template_rows": null,
            "height": null,
            "justify_content": null,
            "justify_items": null,
            "left": null,
            "margin": null,
            "max_height": null,
            "max_width": null,
            "min_height": null,
            "min_width": null,
            "object_fit": null,
            "object_position": null,
            "order": null,
            "overflow": null,
            "overflow_x": null,
            "overflow_y": null,
            "padding": null,
            "right": null,
            "top": null,
            "visibility": null,
            "width": null
          }
        },
        "2be8302c557a442ab0c75db209910723": {
          "model_module": "@jupyter-widgets/base",
          "model_name": "LayoutModel",
          "model_module_version": "1.2.0",
          "state": {
            "_model_module": "@jupyter-widgets/base",
            "_model_module_version": "1.2.0",
            "_model_name": "LayoutModel",
            "_view_count": null,
            "_view_module": "@jupyter-widgets/base",
            "_view_module_version": "1.2.0",
            "_view_name": "LayoutView",
            "align_content": null,
            "align_items": null,
            "align_self": null,
            "border": null,
            "bottom": null,
            "display": null,
            "flex": null,
            "flex_flow": null,
            "grid_area": null,
            "grid_auto_columns": null,
            "grid_auto_flow": null,
            "grid_auto_rows": null,
            "grid_column": null,
            "grid_gap": null,
            "grid_row": null,
            "grid_template_areas": null,
            "grid_template_columns": null,
            "grid_template_rows": null,
            "height": null,
            "justify_content": null,
            "justify_items": null,
            "left": null,
            "margin": null,
            "max_height": null,
            "max_width": null,
            "min_height": null,
            "min_width": null,
            "object_fit": null,
            "object_position": null,
            "order": null,
            "overflow": null,
            "overflow_x": null,
            "overflow_y": null,
            "padding": null,
            "right": null,
            "top": null,
            "visibility": null,
            "width": null
          }
        },
        "f99c8303291d4de5ba95dc4895a75212": {
          "model_module": "@jupyter-widgets/controls",
          "model_name": "DescriptionStyleModel",
          "model_module_version": "1.5.0",
          "state": {
            "_model_module": "@jupyter-widgets/controls",
            "_model_module_version": "1.5.0",
            "_model_name": "DescriptionStyleModel",
            "_view_count": null,
            "_view_module": "@jupyter-widgets/base",
            "_view_module_version": "1.2.0",
            "_view_name": "StyleView",
            "description_width": ""
          }
        },
        "b9962acd11594a1c863bfd44149c95ad": {
          "model_module": "@jupyter-widgets/base",
          "model_name": "LayoutModel",
          "model_module_version": "1.2.0",
          "state": {
            "_model_module": "@jupyter-widgets/base",
            "_model_module_version": "1.2.0",
            "_model_name": "LayoutModel",
            "_view_count": null,
            "_view_module": "@jupyter-widgets/base",
            "_view_module_version": "1.2.0",
            "_view_name": "LayoutView",
            "align_content": null,
            "align_items": null,
            "align_self": null,
            "border": null,
            "bottom": null,
            "display": null,
            "flex": null,
            "flex_flow": null,
            "grid_area": null,
            "grid_auto_columns": null,
            "grid_auto_flow": null,
            "grid_auto_rows": null,
            "grid_column": null,
            "grid_gap": null,
            "grid_row": null,
            "grid_template_areas": null,
            "grid_template_columns": null,
            "grid_template_rows": null,
            "height": null,
            "justify_content": null,
            "justify_items": null,
            "left": null,
            "margin": null,
            "max_height": null,
            "max_width": null,
            "min_height": null,
            "min_width": null,
            "object_fit": null,
            "object_position": null,
            "order": null,
            "overflow": null,
            "overflow_x": null,
            "overflow_y": null,
            "padding": null,
            "right": null,
            "top": null,
            "visibility": null,
            "width": null
          }
        },
        "e127ea615b924859bde5a2c3d67f244e": {
          "model_module": "@jupyter-widgets/controls",
          "model_name": "VBoxModel",
          "model_module_version": "1.5.0",
          "state": {
            "_dom_classes": [
              "widget-interact"
            ],
            "_model_module": "@jupyter-widgets/controls",
            "_model_module_version": "1.5.0",
            "_model_name": "VBoxModel",
            "_view_count": null,
            "_view_module": "@jupyter-widgets/controls",
            "_view_module_version": "1.5.0",
            "_view_name": "VBoxView",
            "box_style": "",
            "children": [
              "IPY_MODEL_2b98758ffd334e19a9e544a54f4b1a7c",
              "IPY_MODEL_f4ced91e734548fea06665cebf3c1bfb"
            ],
            "layout": "IPY_MODEL_3d2fdb311998452583eee1096499f360"
          }
        },
        "2b98758ffd334e19a9e544a54f4b1a7c": {
          "model_module": "@jupyter-widgets/controls",
          "model_name": "DropdownModel",
          "model_module_version": "1.5.0",
          "state": {
            "_dom_classes": [],
            "_model_module": "@jupyter-widgets/controls",
            "_model_module_version": "1.5.0",
            "_model_name": "DropdownModel",
            "_options_labels": [
              "1",
              "2",
              "3",
              "4"
            ],
            "_view_count": null,
            "_view_module": "@jupyter-widgets/controls",
            "_view_module_version": "1.5.0",
            "_view_name": "DropdownView",
            "description": "depth",
            "description_tooltip": null,
            "disabled": false,
            "index": 0,
            "layout": "IPY_MODEL_50ae31361bcb4902a7e0c25c8186b1ca",
            "style": "IPY_MODEL_ce0f1945294a4fe596f90007195bf9c7"
          }
        },
        "f4ced91e734548fea06665cebf3c1bfb": {
          "model_module": "@jupyter-widgets/output",
          "model_name": "OutputModel",
          "model_module_version": "1.0.0",
          "state": {
            "_dom_classes": [],
            "_model_module": "@jupyter-widgets/output",
            "_model_module_version": "1.0.0",
            "_model_name": "OutputModel",
            "_view_count": null,
            "_view_module": "@jupyter-widgets/output",
            "_view_module_version": "1.0.0",
            "_view_name": "OutputView",
            "layout": "IPY_MODEL_f8a4f9f62edb42ca925323d2f8ce2972",
            "msg_id": "",
            "outputs": [
              {
                "output_type": "display_data",
                "data": {
                  "text/plain": "<IPython.core.display.HTML object>",
                  "text/html": "<b style=\"color:blue; font-size: 1.25em; margin-top: 1em;\">Prompt: </b>"
                },
                "metadata": {}
              },
              {
                "output_type": "display_data",
                "data": {
                  "text/plain": "<IPython.core.display.HTML object>",
                  "text/html": "<pre><code style=\"font-size: 0.85em; line-height: 1.2em; display: block; border: 1px solid #ddd; padding: 1em; margin-left: 0.5em;\">Consider the following functions:\n\ndef image.flip_horizontal():\n    flips the image horizontally\n\nWrite a function that flips an image horizontally.\n[BEGIN]\ndef flip_horizontal(image):\n    </code></pre>"
                },
                "metadata": {}
              },
              {
                "output_type": "display_data",
                "data": {
                  "text/plain": "<IPython.core.display.HTML object>",
                  "text/html": "<b style=\"color:red; font-size: 1.25em;\">Target: </b>"
                },
                "metadata": {}
              },
              {
                "output_type": "display_data",
                "data": {
                  "text/plain": "<IPython.core.display.HTML object>",
                  "text/html": "<pre><code style=\"font-size: 0.85em; line-height: 1.2em; display: block; border: 1px solid #ddd; padding: 1em; margin-left: 0.5em;\">return image.flip_horizontal()</code></pre>"
                },
                "metadata": {}
              }
            ]
          }
        },
        "3d2fdb311998452583eee1096499f360": {
          "model_module": "@jupyter-widgets/base",
          "model_name": "LayoutModel",
          "model_module_version": "1.2.0",
          "state": {
            "_model_module": "@jupyter-widgets/base",
            "_model_module_version": "1.2.0",
            "_model_name": "LayoutModel",
            "_view_count": null,
            "_view_module": "@jupyter-widgets/base",
            "_view_module_version": "1.2.0",
            "_view_name": "LayoutView",
            "align_content": null,
            "align_items": null,
            "align_self": null,
            "border": null,
            "bottom": null,
            "display": null,
            "flex": null,
            "flex_flow": null,
            "grid_area": null,
            "grid_auto_columns": null,
            "grid_auto_flow": null,
            "grid_auto_rows": null,
            "grid_column": null,
            "grid_gap": null,
            "grid_row": null,
            "grid_template_areas": null,
            "grid_template_columns": null,
            "grid_template_rows": null,
            "height": null,
            "justify_content": null,
            "justify_items": null,
            "left": null,
            "margin": null,
            "max_height": null,
            "max_width": null,
            "min_height": null,
            "min_width": null,
            "object_fit": null,
            "object_position": null,
            "order": null,
            "overflow": null,
            "overflow_x": null,
            "overflow_y": null,
            "padding": null,
            "right": null,
            "top": null,
            "visibility": null,
            "width": null
          }
        },
        "50ae31361bcb4902a7e0c25c8186b1ca": {
          "model_module": "@jupyter-widgets/base",
          "model_name": "LayoutModel",
          "model_module_version": "1.2.0",
          "state": {
            "_model_module": "@jupyter-widgets/base",
            "_model_module_version": "1.2.0",
            "_model_name": "LayoutModel",
            "_view_count": null,
            "_view_module": "@jupyter-widgets/base",
            "_view_module_version": "1.2.0",
            "_view_name": "LayoutView",
            "align_content": null,
            "align_items": null,
            "align_self": null,
            "border": null,
            "bottom": null,
            "display": null,
            "flex": null,
            "flex_flow": null,
            "grid_area": null,
            "grid_auto_columns": null,
            "grid_auto_flow": null,
            "grid_auto_rows": null,
            "grid_column": null,
            "grid_gap": null,
            "grid_row": null,
            "grid_template_areas": null,
            "grid_template_columns": null,
            "grid_template_rows": null,
            "height": null,
            "justify_content": null,
            "justify_items": null,
            "left": null,
            "margin": null,
            "max_height": null,
            "max_width": null,
            "min_height": null,
            "min_width": null,
            "object_fit": null,
            "object_position": null,
            "order": null,
            "overflow": null,
            "overflow_x": null,
            "overflow_y": null,
            "padding": null,
            "right": null,
            "top": null,
            "visibility": null,
            "width": null
          }
        },
        "ce0f1945294a4fe596f90007195bf9c7": {
          "model_module": "@jupyter-widgets/controls",
          "model_name": "DescriptionStyleModel",
          "model_module_version": "1.5.0",
          "state": {
            "_model_module": "@jupyter-widgets/controls",
            "_model_module_version": "1.5.0",
            "_model_name": "DescriptionStyleModel",
            "_view_count": null,
            "_view_module": "@jupyter-widgets/base",
            "_view_module_version": "1.2.0",
            "_view_name": "StyleView",
            "description_width": ""
          }
        },
        "f8a4f9f62edb42ca925323d2f8ce2972": {
          "model_module": "@jupyter-widgets/base",
          "model_name": "LayoutModel",
          "model_module_version": "1.2.0",
          "state": {
            "_model_module": "@jupyter-widgets/base",
            "_model_module_version": "1.2.0",
            "_model_name": "LayoutModel",
            "_view_count": null,
            "_view_module": "@jupyter-widgets/base",
            "_view_module_version": "1.2.0",
            "_view_name": "LayoutView",
            "align_content": null,
            "align_items": null,
            "align_self": null,
            "border": null,
            "bottom": null,
            "display": null,
            "flex": null,
            "flex_flow": null,
            "grid_area": null,
            "grid_auto_columns": null,
            "grid_auto_flow": null,
            "grid_auto_rows": null,
            "grid_column": null,
            "grid_gap": null,
            "grid_row": null,
            "grid_template_areas": null,
            "grid_template_columns": null,
            "grid_template_rows": null,
            "height": null,
            "justify_content": null,
            "justify_items": null,
            "left": null,
            "margin": null,
            "max_height": null,
            "max_width": null,
            "min_height": null,
            "min_width": null,
            "object_fit": null,
            "object_position": null,
            "order": null,
            "overflow": null,
            "overflow_x": null,
            "overflow_y": null,
            "padding": null,
            "right": null,
            "top": null,
            "visibility": null,
            "width": null
          }
        }
      }
    }
  },
  "nbformat": 4,
  "nbformat_minor": 0
}
